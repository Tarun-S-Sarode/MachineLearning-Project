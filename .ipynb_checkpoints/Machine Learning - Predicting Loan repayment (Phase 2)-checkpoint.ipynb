{
 "cells": [
  {
   "cell_type": "markdown",
   "metadata": {},
   "source": [
    "# <font color='0078d7'>Machine Learning </font>\n",
    "# <font color='0078d7'>Predicting Loan Repay (Phase 2) </font>\n",
    "\n",
    "## <font color='0078d7'>Tarun.S.Sarode </font>"
   ]
  },
  {
   "cell_type": "markdown",
   "metadata": {},
   "source": []
  },
  {
   "cell_type": "markdown",
   "metadata": {},
   "source": []
  },
  {
   "cell_type": "markdown",
   "metadata": {},
   "source": []
  },
  {
   "cell_type": "markdown",
   "metadata": {},
   "source": [
    "# <font color='0078d7'>Table of Content </font>"
   ]
  },
  {
   "cell_type": "markdown",
   "metadata": {},
   "source": [
    "### 1  -  Abstract\n",
    "\n",
    "### 2  -  Introduction\n",
    "\n",
    "- 2.1 - Dataset\n",
    "\n",
    "- 2.2 - Target Feature\n",
    "\n",
    "- 2.3 - Descriptive Features\n",
    "\n",
    "### 3  -  Methodology\n",
    "\n",
    "- 3.1  - Data Preparation and Exploration\n",
    "\n",
    "- 3.2  - Encoding\n",
    "\n",
    "    - 3.2.1 - Encoding target variable\n",
    "\n",
    "    - 3.2.2 - Encoding Categorical Features\n",
    "\n",
    "- 3.3  - Calling of Features\n",
    "\n",
    "- 3.4  - Feature Selection & Ranking\n",
    "\n",
    "- 3.5  - Train-Test Splitting\n",
    "\n",
    "- 3.6  - Model Evaluation Strategy\n",
    "\n",
    "- 3.7  - Hyper-parameter Tuning\n",
    "\n",
    "- 3.8  - Model Fitting\n",
    "\n",
    "    - 3.8.1 - K-Nearest Neighbors(KNN)\n",
    "\n",
    "    - 3.8.2 - (Gaussian) Naive Bayes (NB)\n",
    "\n",
    "    - 3.8.3 - Decision Tree (DT)\n",
    "\n",
    "### 4  -  Results\n",
    "\n",
    "-   Performance Comparison\n",
    "\n",
    "### 5  -  Summary"
   ]
  },
  {
   "cell_type": "markdown",
   "metadata": {},
   "source": [
    " # 1 - Abstract\n",
    "\n",
    "The aim of this project is to predict whether a person is eligible for a loan on basis of various descriptive features.\n",
    "\n",
    "The dataset is taken from https://www.kaggle.com/sanket5/loan-prediction-binary-class-problem/notebook.\n",
    "\n",
    "This project has two phases:\n",
    "\n",
    "- In phase 1, we did the basic data Pre-processing and detailed descriptive statistical analysis of the data \n",
    "\n",
    "- In phase 2, we are applying different ML classification algorithms to predict if the person is eligible for loan.\n",
    "\n",
    "This report includes phase 2 with explanation as well as the Python codes for better understanding."
   ]
  },
  {
   "cell_type": "markdown",
   "metadata": {},
   "source": [
    "# 2 - Introduction "
   ]
  },
  {
   "cell_type": "markdown",
   "metadata": {},
   "source": [
    "## 2.1 - Dataset\n",
    "\n",
    "The Kaggle dataset contains 2 datasets i.e., train.csv and test.csv. We would be considering only the train dataset since test dataset does not contain the target feature in the dataset, which is a variable we aim to predict. The train dataset has 614 observations. It has 12 descriptive features and 1 target feature.\n",
    "\n"
   ]
  },
  {
   "cell_type": "markdown",
   "metadata": {},
   "source": [
    "## 2.2 - Target Feature\n",
    "\n",
    "The target feature is Loan_Status which is a categorial feature.It has 2 classes i.e. Y or N, which makes it a binary classification. The aim is to predict whether the person gets the loan.Loan_Status- Yes, No"
   ]
  },
  {
   "cell_type": "markdown",
   "metadata": {},
   "source": [
    "## 2.3 - Descriptive Features\n",
    "\n",
    "The variable description for the train.csv dataset are as follows:\n",
    "\n",
    "- Loan_ID: Unique ID for every person.\n",
    "\n",
    "- Gender: The gender attribute is divided into Male and Female.\n",
    "\n",
    "- Married: Yes, No.\n",
    "\n",
    "- Dependents: There are continuous.\n",
    "\n",
    "- It defines the number of dependents.\n",
    "\n",
    "- Education:states whether the person was a Graduate or not.\n",
    "\n",
    "- Self_Employed: Yes, No.\n",
    "\n",
    "- Applicant Income : continuous.\n",
    "\n",
    "- It states the income of the person applying for the loan.\n",
    "\n",
    "- Co-applicant Income: continuous.\n",
    "\n",
    "- It states the income of the co-applicant of the person applying for the loan.\n",
    "\n",
    "- LoanAmount: continuous.\n",
    "\n",
    "- The amount that the loan has been applied for.\n",
    "\n",
    "- Loan_Amount_Term: continuous.\n",
    "\n",
    "- The number of years that the person wants to apply loan for.\n",
    "\n",
    "- Credit_History: continuous.\n",
    "\n",
    "- It states whether the person is credible for loan.\n",
    "\n",
    "- Property_Area: Rural, Semi-urban, Urban.It states whether the person stays in the mentioned areas.\n",
    "\n",
    "All the descriptive features are almost self-explanatory."
   ]
  },
  {
   "cell_type": "markdown",
   "metadata": {},
   "source": [
    "# 3 - Methodology\n",
    "\n",
    "The very first important thing before carrying any of the process is to ensure that the data set is free of any noise in it, which makes the models to predict accurately and correctly.\n",
    "\n",
    "In machine learning we have different ways to predict using different models which are supervised, unsupervised and semi-supervised Machine learning techniques.\n",
    "\n",
    "In our project we are using the supervised Machine learning techniques which inc;ude Classification and Regression techniques.\n",
    "\n",
    "We are appliying the following Classification techiniques in this project:\n",
    "\n",
    "- K-Nearest Neighbours(KNN).\n",
    "\n",
    "- Decision Tree(DT).\n",
    "\n",
    "- Gaussian Naive Bayes(NB).\n",
    "\n",
    "Before fitting the above models,we encode all the features to numeric because all the ML algorithm requires all the input and output variables to be numeric.\n",
    "\n",
    "The most important step is to select the best features using the powerful Random Forest Importance.\n",
    "\n",
    "Next using feature selection together with hyperparameter search, we conduct a 5-fold stratified cross-validation to fine-tune hyperparameters of each classifier using Area Under Curve (AUC) as the performance metric.\n",
    "\n",
    "We build each model using parallel processing with \"-2\" cores. \n",
    "\n",
    "Next, stratification is crucial to ensure that each validation set has the same proportion of classes as in the original dataset.Using the hyperparameters search, the best model on the test data is identified for each of the classifiers.\n",
    "\n",
    "After the best model is identified, we apply the 10-fold cross-validation on the test data and then conduct paired t-test to note whether any performance difference is is statistically significant.\n",
    "\n",
    "Finally, we compare the results of all the three classifiers using the 'Confusion Matrix','Precision' and 'Recall'. which gives us the accuracy of the prediction and concludes the best model which can be used on the test data.\n",
    "\n"
   ]
  },
  {
   "cell_type": "markdown",
   "metadata": {},
   "source": [
    "## 3.1 - Data Preparation and Exploration"
   ]
  },
  {
   "cell_type": "markdown",
   "metadata": {},
   "source": [
    "The data preparation and exploration is carried in Phase 1, but the data Preparation is also done in phase 2 as it is essential to carry on the main process.\n",
    "\n",
    "We will start by loading the CSV data from the file (using appropriate pandas functions) and checking whether the loaded data is equivalent to the data in the source CSV file.\n",
    "\n",
    "The train.csv dataset is imported:"
   ]
  },
  {
   "cell_type": "markdown",
   "metadata": {},
   "source": [
    "[1] URL = ( https://www.kaggle.com/sanket5/loan-prediction-dataset ) "
   ]
  },
  {
   "cell_type": "code",
   "execution_count": 1,
   "metadata": {},
   "outputs": [],
   "source": [
    "import numpy as np\n",
    "import pandas as pd\n",
    "import matplotlib.pyplot as plt\n",
    "import seaborn as sns"
   ]
  },
  {
   "cell_type": "code",
   "execution_count": 2,
   "metadata": {},
   "outputs": [],
   "source": [
    "# Import pandas as pd\n",
    "a = pd.read_csv('train.csv',sep=',')"
   ]
  },
  {
   "cell_type": "code",
   "execution_count": 3,
   "metadata": {},
   "outputs": [
    {
     "data": {
      "text/html": [
       "<div>\n",
       "<style scoped>\n",
       "    .dataframe tbody tr th:only-of-type {\n",
       "        vertical-align: middle;\n",
       "    }\n",
       "\n",
       "    .dataframe tbody tr th {\n",
       "        vertical-align: top;\n",
       "    }\n",
       "\n",
       "    .dataframe thead th {\n",
       "        text-align: right;\n",
       "    }\n",
       "</style>\n",
       "<table border=\"1\" class=\"dataframe\">\n",
       "  <thead>\n",
       "    <tr style=\"text-align: right;\">\n",
       "      <th></th>\n",
       "      <th>Loan_ID</th>\n",
       "      <th>Gender</th>\n",
       "      <th>Married</th>\n",
       "      <th>Dependents</th>\n",
       "      <th>Education</th>\n",
       "      <th>Self_Employed</th>\n",
       "      <th>ApplicantIncome</th>\n",
       "      <th>CoapplicantIncome</th>\n",
       "      <th>LoanAmount</th>\n",
       "      <th>Loan_Amount_Term</th>\n",
       "      <th>Credit_History</th>\n",
       "      <th>Property_Area</th>\n",
       "      <th>Loan_Status</th>\n",
       "    </tr>\n",
       "  </thead>\n",
       "  <tbody>\n",
       "    <tr>\n",
       "      <th>0</th>\n",
       "      <td>LP001002</td>\n",
       "      <td>Male</td>\n",
       "      <td>No</td>\n",
       "      <td>0</td>\n",
       "      <td>Graduate</td>\n",
       "      <td>No</td>\n",
       "      <td>5849</td>\n",
       "      <td>0.0</td>\n",
       "      <td>NaN</td>\n",
       "      <td>360.0</td>\n",
       "      <td>1.0</td>\n",
       "      <td>Urban</td>\n",
       "      <td>Y</td>\n",
       "    </tr>\n",
       "    <tr>\n",
       "      <th>1</th>\n",
       "      <td>LP001003</td>\n",
       "      <td>Male</td>\n",
       "      <td>Yes</td>\n",
       "      <td>1</td>\n",
       "      <td>Graduate</td>\n",
       "      <td>No</td>\n",
       "      <td>4583</td>\n",
       "      <td>1508.0</td>\n",
       "      <td>128.0</td>\n",
       "      <td>360.0</td>\n",
       "      <td>1.0</td>\n",
       "      <td>Rural</td>\n",
       "      <td>N</td>\n",
       "    </tr>\n",
       "    <tr>\n",
       "      <th>2</th>\n",
       "      <td>LP001005</td>\n",
       "      <td>Male</td>\n",
       "      <td>Yes</td>\n",
       "      <td>0</td>\n",
       "      <td>Graduate</td>\n",
       "      <td>Yes</td>\n",
       "      <td>3000</td>\n",
       "      <td>0.0</td>\n",
       "      <td>66.0</td>\n",
       "      <td>360.0</td>\n",
       "      <td>1.0</td>\n",
       "      <td>Urban</td>\n",
       "      <td>Y</td>\n",
       "    </tr>\n",
       "    <tr>\n",
       "      <th>3</th>\n",
       "      <td>LP001006</td>\n",
       "      <td>Male</td>\n",
       "      <td>Yes</td>\n",
       "      <td>0</td>\n",
       "      <td>Not Graduate</td>\n",
       "      <td>No</td>\n",
       "      <td>2583</td>\n",
       "      <td>2358.0</td>\n",
       "      <td>120.0</td>\n",
       "      <td>360.0</td>\n",
       "      <td>1.0</td>\n",
       "      <td>Urban</td>\n",
       "      <td>Y</td>\n",
       "    </tr>\n",
       "    <tr>\n",
       "      <th>4</th>\n",
       "      <td>LP001008</td>\n",
       "      <td>Male</td>\n",
       "      <td>No</td>\n",
       "      <td>0</td>\n",
       "      <td>Graduate</td>\n",
       "      <td>No</td>\n",
       "      <td>6000</td>\n",
       "      <td>0.0</td>\n",
       "      <td>141.0</td>\n",
       "      <td>360.0</td>\n",
       "      <td>1.0</td>\n",
       "      <td>Urban</td>\n",
       "      <td>Y</td>\n",
       "    </tr>\n",
       "  </tbody>\n",
       "</table>\n",
       "</div>"
      ],
      "text/plain": [
       "    Loan_ID Gender Married Dependents     Education Self_Employed  \\\n",
       "0  LP001002   Male      No          0      Graduate            No   \n",
       "1  LP001003   Male     Yes          1      Graduate            No   \n",
       "2  LP001005   Male     Yes          0      Graduate           Yes   \n",
       "3  LP001006   Male     Yes          0  Not Graduate            No   \n",
       "4  LP001008   Male      No          0      Graduate            No   \n",
       "\n",
       "   ApplicantIncome  CoapplicantIncome  LoanAmount  Loan_Amount_Term  \\\n",
       "0             5849                0.0         NaN             360.0   \n",
       "1             4583             1508.0       128.0             360.0   \n",
       "2             3000                0.0        66.0             360.0   \n",
       "3             2583             2358.0       120.0             360.0   \n",
       "4             6000                0.0       141.0             360.0   \n",
       "\n",
       "   Credit_History Property_Area Loan_Status  \n",
       "0             1.0         Urban           Y  \n",
       "1             1.0         Rural           N  \n",
       "2             1.0         Urban           Y  \n",
       "3             1.0         Urban           Y  \n",
       "4             1.0         Urban           Y  "
      ]
     },
     "execution_count": 3,
     "metadata": {},
     "output_type": "execute_result"
    }
   ],
   "source": [
    "# Loading the first 5 rows of the dataset\n",
    "a.head()"
   ]
  },
  {
   "cell_type": "code",
   "execution_count": 4,
   "metadata": {},
   "outputs": [],
   "source": [
    "# we would change the attributes names to simplify them.\n",
    "a.columns=['loanid','gender','married','dependents','education','self-employed','income', 'co-applicant-income','loan-amount','loan-duration','credit-history','property-area','loan-status']"
   ]
  },
  {
   "cell_type": "code",
   "execution_count": 5,
   "metadata": {},
   "outputs": [],
   "source": [
    "a1=a"
   ]
  },
  {
   "cell_type": "code",
   "execution_count": 6,
   "metadata": {},
   "outputs": [
    {
     "data": {
      "text/plain": [
       "(614, 13)"
      ]
     },
     "execution_count": 6,
     "metadata": {},
     "output_type": "execute_result"
    }
   ],
   "source": [
    "#checking if the data is loaded as per the source file.\n",
    "a1.shape"
   ]
  },
  {
   "cell_type": "code",
   "execution_count": 7,
   "metadata": {},
   "outputs": [
    {
     "data": {
      "text/html": [
       "<div>\n",
       "<style scoped>\n",
       "    .dataframe tbody tr th:only-of-type {\n",
       "        vertical-align: middle;\n",
       "    }\n",
       "\n",
       "    .dataframe tbody tr th {\n",
       "        vertical-align: top;\n",
       "    }\n",
       "\n",
       "    .dataframe thead th {\n",
       "        text-align: right;\n",
       "    }\n",
       "</style>\n",
       "<table border=\"1\" class=\"dataframe\">\n",
       "  <thead>\n",
       "    <tr style=\"text-align: right;\">\n",
       "      <th></th>\n",
       "      <th>loanid</th>\n",
       "      <th>gender</th>\n",
       "      <th>married</th>\n",
       "      <th>dependents</th>\n",
       "      <th>education</th>\n",
       "      <th>self-employed</th>\n",
       "      <th>income</th>\n",
       "      <th>co-applicant-income</th>\n",
       "      <th>loan-amount</th>\n",
       "      <th>loan-duration</th>\n",
       "      <th>credit-history</th>\n",
       "      <th>property-area</th>\n",
       "      <th>loan-status</th>\n",
       "    </tr>\n",
       "  </thead>\n",
       "  <tbody>\n",
       "    <tr>\n",
       "      <th>0</th>\n",
       "      <td>LP001002</td>\n",
       "      <td>Male</td>\n",
       "      <td>No</td>\n",
       "      <td>0</td>\n",
       "      <td>Graduate</td>\n",
       "      <td>No</td>\n",
       "      <td>5849</td>\n",
       "      <td>0.0</td>\n",
       "      <td>NaN</td>\n",
       "      <td>360.0</td>\n",
       "      <td>1.0</td>\n",
       "      <td>Urban</td>\n",
       "      <td>Y</td>\n",
       "    </tr>\n",
       "    <tr>\n",
       "      <th>1</th>\n",
       "      <td>LP001003</td>\n",
       "      <td>Male</td>\n",
       "      <td>Yes</td>\n",
       "      <td>1</td>\n",
       "      <td>Graduate</td>\n",
       "      <td>No</td>\n",
       "      <td>4583</td>\n",
       "      <td>1508.0</td>\n",
       "      <td>128.0</td>\n",
       "      <td>360.0</td>\n",
       "      <td>1.0</td>\n",
       "      <td>Rural</td>\n",
       "      <td>N</td>\n",
       "    </tr>\n",
       "    <tr>\n",
       "      <th>2</th>\n",
       "      <td>LP001005</td>\n",
       "      <td>Male</td>\n",
       "      <td>Yes</td>\n",
       "      <td>0</td>\n",
       "      <td>Graduate</td>\n",
       "      <td>Yes</td>\n",
       "      <td>3000</td>\n",
       "      <td>0.0</td>\n",
       "      <td>66.0</td>\n",
       "      <td>360.0</td>\n",
       "      <td>1.0</td>\n",
       "      <td>Urban</td>\n",
       "      <td>Y</td>\n",
       "    </tr>\n",
       "    <tr>\n",
       "      <th>3</th>\n",
       "      <td>LP001006</td>\n",
       "      <td>Male</td>\n",
       "      <td>Yes</td>\n",
       "      <td>0</td>\n",
       "      <td>Not Graduate</td>\n",
       "      <td>No</td>\n",
       "      <td>2583</td>\n",
       "      <td>2358.0</td>\n",
       "      <td>120.0</td>\n",
       "      <td>360.0</td>\n",
       "      <td>1.0</td>\n",
       "      <td>Urban</td>\n",
       "      <td>Y</td>\n",
       "    </tr>\n",
       "    <tr>\n",
       "      <th>4</th>\n",
       "      <td>LP001008</td>\n",
       "      <td>Male</td>\n",
       "      <td>No</td>\n",
       "      <td>0</td>\n",
       "      <td>Graduate</td>\n",
       "      <td>No</td>\n",
       "      <td>6000</td>\n",
       "      <td>0.0</td>\n",
       "      <td>141.0</td>\n",
       "      <td>360.0</td>\n",
       "      <td>1.0</td>\n",
       "      <td>Urban</td>\n",
       "      <td>Y</td>\n",
       "    </tr>\n",
       "  </tbody>\n",
       "</table>\n",
       "</div>"
      ],
      "text/plain": [
       "     loanid gender married dependents     education self-employed  income  \\\n",
       "0  LP001002   Male      No          0      Graduate            No    5849   \n",
       "1  LP001003   Male     Yes          1      Graduate            No    4583   \n",
       "2  LP001005   Male     Yes          0      Graduate           Yes    3000   \n",
       "3  LP001006   Male     Yes          0  Not Graduate            No    2583   \n",
       "4  LP001008   Male      No          0      Graduate            No    6000   \n",
       "\n",
       "   co-applicant-income  loan-amount  loan-duration  credit-history  \\\n",
       "0                  0.0          NaN          360.0             1.0   \n",
       "1               1508.0        128.0          360.0             1.0   \n",
       "2                  0.0         66.0          360.0             1.0   \n",
       "3               2358.0        120.0          360.0             1.0   \n",
       "4                  0.0        141.0          360.0             1.0   \n",
       "\n",
       "  property-area loan-status  \n",
       "0         Urban           Y  \n",
       "1         Rural           N  \n",
       "2         Urban           Y  \n",
       "3         Urban           Y  \n",
       "4         Urban           Y  "
      ]
     },
     "execution_count": 7,
     "metadata": {},
     "output_type": "execute_result"
    }
   ],
   "source": [
    "# Again loading the first 5 rows of the dataset after changing the names of the attributes\n",
    "a1.head()"
   ]
  },
  {
   "cell_type": "code",
   "execution_count": 8,
   "metadata": {},
   "outputs": [
    {
     "data": {
      "text/plain": [
       "loanid                  object\n",
       "gender                  object\n",
       "married                 object\n",
       "dependents              object\n",
       "education               object\n",
       "self-employed           object\n",
       "income                   int64\n",
       "co-applicant-income    float64\n",
       "loan-amount            float64\n",
       "loan-duration          float64\n",
       "credit-history         float64\n",
       "property-area           object\n",
       "loan-status             object\n",
       "dtype: object"
      ]
     },
     "execution_count": 8,
     "metadata": {},
     "output_type": "execute_result"
    }
   ],
   "source": [
    "# checking the datatypes of each attribute column\n",
    "a1.dtypes"
   ]
  },
  {
   "cell_type": "code",
   "execution_count": 9,
   "metadata": {},
   "outputs": [],
   "source": [
    "# we would change the datatype of income column from int64 to float64 as it gives better results\n",
    "a1['income'] = a1['income'].astype(int).astype('float64')"
   ]
  },
  {
   "cell_type": "code",
   "execution_count": 10,
   "metadata": {},
   "outputs": [
    {
     "name": "stdout",
     "output_type": "stream",
     "text": [
      "Dimension of the data set is (614, 13) \n",
      "\n",
      "Data types are: \n",
      "loanid                  object\n",
      "gender                  object\n",
      "married                 object\n",
      "dependents              object\n",
      "education               object\n",
      "self-employed           object\n",
      "income                 float64\n",
      "co-applicant-income    float64\n",
      "loan-amount            float64\n",
      "loan-duration          float64\n",
      "credit-history         float64\n",
      "property-area           object\n",
      "loan-status             object\n",
      "dtype: object\n"
     ]
    }
   ],
   "source": [
    "# We will again check the dimension and datatypes of each column after checking the type of the income column\n",
    "print(f\"Dimension of the data set is {a.shape} \\n\")\n",
    "print(f\"Data types are: \")\n",
    "print(a1.dtypes)"
   ]
  },
  {
   "cell_type": "markdown",
   "metadata": {},
   "source": [
    "##### Removing the white spaces"
   ]
  },
  {
   "cell_type": "code",
   "execution_count": 11,
   "metadata": {},
   "outputs": [],
   "source": [
    "# we are using strip to remove the white spaces which is a good practice to ensure that there is no white spaces in the datasset.\n",
    "\n",
    "a1['loanid']=a1['loanid'].str.strip(' ')\n",
    "a1['gender']=a1['gender'].str.strip(' ')\n",
    "a1['married']=a1['married'].str.strip(' ')\n",
    "a1['dependents']=a1['dependents'].str.strip(' ')\n",
    "a1['education']=a1['education'].str.strip(' ')\n",
    "a1['self-employed']=a1['self-employed'].str.strip(' ')\n",
    "a1['property-area']=a1['property-area'].str.strip(' ')\n",
    "a1['loan-status']=a1['loan-status'].str.strip(' ')"
   ]
  },
  {
   "cell_type": "markdown",
   "metadata": {},
   "source": [
    "##### Checking for Missing Values"
   ]
  },
  {
   "cell_type": "code",
   "execution_count": 12,
   "metadata": {
    "scrolled": true
   },
   "outputs": [
    {
     "data": {
      "text/plain": [
       "loanid                  0\n",
       "gender                 13\n",
       "married                 3\n",
       "dependents             15\n",
       "education               0\n",
       "self-employed          32\n",
       "income                  0\n",
       "co-applicant-income     0\n",
       "loan-amount            22\n",
       "loan-duration          14\n",
       "credit-history         50\n",
       "property-area           0\n",
       "loan-status             0\n",
       "dtype: int64"
      ]
     },
     "execution_count": 12,
     "metadata": {},
     "output_type": "execute_result"
    }
   ],
   "source": [
    "# Checking whether all the NaN values for the continuous features have been replaced\n",
    "a1.isnull().sum()"
   ]
  },
  {
   "cell_type": "code",
   "execution_count": 13,
   "metadata": {},
   "outputs": [],
   "source": [
    "# Replacing all the categorical attributes with mode\n",
    "a1['self-employed']=a1['self-employed'].replace([np.NaN],[a1['self-employed'].mode()])\n",
    "a1['dependents']=a1['dependents'].replace([np.NaN],[a1['dependents'].mode()])\n",
    "a1['gender']=a1['gender'].replace([np.NaN],[a1['gender'].mode()])\n",
    "a1['married']=a1['married'].replace([np.NaN],[a1['married'].mode()])"
   ]
  },
  {
   "cell_type": "markdown",
   "metadata": {},
   "source": [
    "##### Replacing Outliers"
   ]
  },
  {
   "cell_type": "code",
   "execution_count": 14,
   "metadata": {},
   "outputs": [
    {
     "name": "stderr",
     "output_type": "stream",
     "text": [
      "C:\\ProgramData\\Anaconda3\\lib\\site-packages\\ipykernel_launcher.py:13: RuntimeWarning: invalid value encountered in greater\n",
      "  del sys.path[0]\n"
     ]
    }
   ],
   "source": [
    "# df['col'].values[df['col'].values > x] = y #y is the value to be replaced.\n",
    "\n",
    "#income\n",
    "# replacing the outliers by mean for values > 30000\n",
    "a1['income'].values[a1['income'].values > 30000] = a1['income'].mean()\n",
    "\n",
    "#co-applicant-income\n",
    "# replacing by mean for values > 10000\n",
    "a1['co-applicant-income'].values[a1['co-applicant-income'].values > 10000] = a1['co-applicant-income'].mean()\n",
    "\n",
    "#loan amount\n",
    "# replacing by mean for values > 10000\n",
    "a1['loan-amount'].values[a1['loan-amount'].values > 400] = a1['loan-amount'].mean()\n"
   ]
  },
  {
   "cell_type": "markdown",
   "metadata": {},
   "source": [
    "##### Replacing Null Values"
   ]
  },
  {
   "cell_type": "code",
   "execution_count": 15,
   "metadata": {},
   "outputs": [],
   "source": [
    "# Replacing the NaN values with mean\n",
    "a1['loan-duration']=a1['loan-duration'].replace([np.NaN],[a1['loan-duration'].mean()])\n",
    "a1['loan-amount']=a1['loan-amount'].replace([np.NaN],[a1['loan-amount'].mean()])\n",
    "a1['credit-history']=a1['credit-history'].replace([np.NaN],[a1['credit-history'].mode()])"
   ]
  },
  {
   "cell_type": "code",
   "execution_count": 16,
   "metadata": {},
   "outputs": [
    {
     "data": {
      "text/plain": [
       "loanid                 0\n",
       "gender                 0\n",
       "married                0\n",
       "dependents             0\n",
       "education              0\n",
       "self-employed          0\n",
       "income                 0\n",
       "co-applicant-income    0\n",
       "loan-amount            0\n",
       "loan-duration          0\n",
       "credit-history         0\n",
       "property-area          0\n",
       "loan-status            0\n",
       "dtype: int64"
      ]
     },
     "execution_count": 16,
     "metadata": {},
     "output_type": "execute_result"
    }
   ],
   "source": [
    "# Checking whether all the NaN values have been replaced\n",
    "a1.isnull().sum()"
   ]
  },
  {
   "cell_type": "markdown",
   "metadata": {},
   "source": [
    "##### Summary Statistics\n",
    "\n",
    "The summary of the entire data is shown below"
   ]
  },
  {
   "cell_type": "code",
   "execution_count": 17,
   "metadata": {},
   "outputs": [
    {
     "data": {
      "text/html": [
       "<div>\n",
       "<style scoped>\n",
       "    .dataframe tbody tr th:only-of-type {\n",
       "        vertical-align: middle;\n",
       "    }\n",
       "\n",
       "    .dataframe tbody tr th {\n",
       "        vertical-align: top;\n",
       "    }\n",
       "\n",
       "    .dataframe thead th {\n",
       "        text-align: right;\n",
       "    }\n",
       "</style>\n",
       "<table border=\"1\" class=\"dataframe\">\n",
       "  <thead>\n",
       "    <tr style=\"text-align: right;\">\n",
       "      <th></th>\n",
       "      <th>loanid</th>\n",
       "      <th>gender</th>\n",
       "      <th>married</th>\n",
       "      <th>dependents</th>\n",
       "      <th>education</th>\n",
       "      <th>self-employed</th>\n",
       "      <th>income</th>\n",
       "      <th>co-applicant-income</th>\n",
       "      <th>loan-amount</th>\n",
       "      <th>loan-duration</th>\n",
       "      <th>credit-history</th>\n",
       "      <th>property-area</th>\n",
       "      <th>loan-status</th>\n",
       "    </tr>\n",
       "  </thead>\n",
       "  <tbody>\n",
       "    <tr>\n",
       "      <th>count</th>\n",
       "      <td>614</td>\n",
       "      <td>614</td>\n",
       "      <td>614</td>\n",
       "      <td>614</td>\n",
       "      <td>614</td>\n",
       "      <td>614</td>\n",
       "      <td>614.000000</td>\n",
       "      <td>614.000000</td>\n",
       "      <td>614.000000</td>\n",
       "      <td>614.000000</td>\n",
       "      <td>614.000000</td>\n",
       "      <td>614</td>\n",
       "      <td>614</td>\n",
       "    </tr>\n",
       "    <tr>\n",
       "      <th>unique</th>\n",
       "      <td>614</td>\n",
       "      <td>2</td>\n",
       "      <td>2</td>\n",
       "      <td>4</td>\n",
       "      <td>2</td>\n",
       "      <td>2</td>\n",
       "      <td>NaN</td>\n",
       "      <td>NaN</td>\n",
       "      <td>NaN</td>\n",
       "      <td>NaN</td>\n",
       "      <td>NaN</td>\n",
       "      <td>3</td>\n",
       "      <td>2</td>\n",
       "    </tr>\n",
       "    <tr>\n",
       "      <th>top</th>\n",
       "      <td>LP002151</td>\n",
       "      <td>Male</td>\n",
       "      <td>Yes</td>\n",
       "      <td>0</td>\n",
       "      <td>Graduate</td>\n",
       "      <td>No</td>\n",
       "      <td>NaN</td>\n",
       "      <td>NaN</td>\n",
       "      <td>NaN</td>\n",
       "      <td>NaN</td>\n",
       "      <td>NaN</td>\n",
       "      <td>Semiurban</td>\n",
       "      <td>Y</td>\n",
       "    </tr>\n",
       "    <tr>\n",
       "      <th>freq</th>\n",
       "      <td>1</td>\n",
       "      <td>502</td>\n",
       "      <td>401</td>\n",
       "      <td>360</td>\n",
       "      <td>480</td>\n",
       "      <td>532</td>\n",
       "      <td>NaN</td>\n",
       "      <td>NaN</td>\n",
       "      <td>NaN</td>\n",
       "      <td>NaN</td>\n",
       "      <td>NaN</td>\n",
       "      <td>233</td>\n",
       "      <td>422</td>\n",
       "    </tr>\n",
       "    <tr>\n",
       "      <th>mean</th>\n",
       "      <td>NaN</td>\n",
       "      <td>NaN</td>\n",
       "      <td>NaN</td>\n",
       "      <td>NaN</td>\n",
       "      <td>NaN</td>\n",
       "      <td>NaN</td>\n",
       "      <td>4900.223477</td>\n",
       "      <td>1412.704226</td>\n",
       "      <td>137.405017</td>\n",
       "      <td>342.000000</td>\n",
       "      <td>0.855049</td>\n",
       "      <td>NaN</td>\n",
       "      <td>NaN</td>\n",
       "    </tr>\n",
       "    <tr>\n",
       "      <th>std</th>\n",
       "      <td>NaN</td>\n",
       "      <td>NaN</td>\n",
       "      <td>NaN</td>\n",
       "      <td>NaN</td>\n",
       "      <td>NaN</td>\n",
       "      <td>NaN</td>\n",
       "      <td>3453.918635</td>\n",
       "      <td>1677.146372</td>\n",
       "      <td>59.344092</td>\n",
       "      <td>64.372489</td>\n",
       "      <td>0.352339</td>\n",
       "      <td>NaN</td>\n",
       "      <td>NaN</td>\n",
       "    </tr>\n",
       "    <tr>\n",
       "      <th>min</th>\n",
       "      <td>NaN</td>\n",
       "      <td>NaN</td>\n",
       "      <td>NaN</td>\n",
       "      <td>NaN</td>\n",
       "      <td>NaN</td>\n",
       "      <td>NaN</td>\n",
       "      <td>150.000000</td>\n",
       "      <td>0.000000</td>\n",
       "      <td>9.000000</td>\n",
       "      <td>12.000000</td>\n",
       "      <td>0.000000</td>\n",
       "      <td>NaN</td>\n",
       "      <td>NaN</td>\n",
       "    </tr>\n",
       "    <tr>\n",
       "      <th>25%</th>\n",
       "      <td>NaN</td>\n",
       "      <td>NaN</td>\n",
       "      <td>NaN</td>\n",
       "      <td>NaN</td>\n",
       "      <td>NaN</td>\n",
       "      <td>NaN</td>\n",
       "      <td>2877.500000</td>\n",
       "      <td>0.000000</td>\n",
       "      <td>100.250000</td>\n",
       "      <td>360.000000</td>\n",
       "      <td>1.000000</td>\n",
       "      <td>NaN</td>\n",
       "      <td>NaN</td>\n",
       "    </tr>\n",
       "    <tr>\n",
       "      <th>50%</th>\n",
       "      <td>NaN</td>\n",
       "      <td>NaN</td>\n",
       "      <td>NaN</td>\n",
       "      <td>NaN</td>\n",
       "      <td>NaN</td>\n",
       "      <td>NaN</td>\n",
       "      <td>3812.500000</td>\n",
       "      <td>1188.500000</td>\n",
       "      <td>129.000000</td>\n",
       "      <td>360.000000</td>\n",
       "      <td>1.000000</td>\n",
       "      <td>NaN</td>\n",
       "      <td>NaN</td>\n",
       "    </tr>\n",
       "    <tr>\n",
       "      <th>75%</th>\n",
       "      <td>NaN</td>\n",
       "      <td>NaN</td>\n",
       "      <td>NaN</td>\n",
       "      <td>NaN</td>\n",
       "      <td>NaN</td>\n",
       "      <td>NaN</td>\n",
       "      <td>5701.000000</td>\n",
       "      <td>2250.000000</td>\n",
       "      <td>160.000000</td>\n",
       "      <td>360.000000</td>\n",
       "      <td>1.000000</td>\n",
       "      <td>NaN</td>\n",
       "      <td>NaN</td>\n",
       "    </tr>\n",
       "    <tr>\n",
       "      <th>max</th>\n",
       "      <td>NaN</td>\n",
       "      <td>NaN</td>\n",
       "      <td>NaN</td>\n",
       "      <td>NaN</td>\n",
       "      <td>NaN</td>\n",
       "      <td>NaN</td>\n",
       "      <td>23803.000000</td>\n",
       "      <td>8980.000000</td>\n",
       "      <td>400.000000</td>\n",
       "      <td>480.000000</td>\n",
       "      <td>1.000000</td>\n",
       "      <td>NaN</td>\n",
       "      <td>NaN</td>\n",
       "    </tr>\n",
       "  </tbody>\n",
       "</table>\n",
       "</div>"
      ],
      "text/plain": [
       "          loanid gender married dependents education self-employed  \\\n",
       "count        614    614     614        614       614           614   \n",
       "unique       614      2       2          4         2             2   \n",
       "top     LP002151   Male     Yes          0  Graduate            No   \n",
       "freq           1    502     401        360       480           532   \n",
       "mean         NaN    NaN     NaN        NaN       NaN           NaN   \n",
       "std          NaN    NaN     NaN        NaN       NaN           NaN   \n",
       "min          NaN    NaN     NaN        NaN       NaN           NaN   \n",
       "25%          NaN    NaN     NaN        NaN       NaN           NaN   \n",
       "50%          NaN    NaN     NaN        NaN       NaN           NaN   \n",
       "75%          NaN    NaN     NaN        NaN       NaN           NaN   \n",
       "max          NaN    NaN     NaN        NaN       NaN           NaN   \n",
       "\n",
       "              income  co-applicant-income  loan-amount  loan-duration  \\\n",
       "count     614.000000           614.000000   614.000000     614.000000   \n",
       "unique           NaN                  NaN          NaN            NaN   \n",
       "top              NaN                  NaN          NaN            NaN   \n",
       "freq             NaN                  NaN          NaN            NaN   \n",
       "mean     4900.223477          1412.704226   137.405017     342.000000   \n",
       "std      3453.918635          1677.146372    59.344092      64.372489   \n",
       "min       150.000000             0.000000     9.000000      12.000000   \n",
       "25%      2877.500000             0.000000   100.250000     360.000000   \n",
       "50%      3812.500000          1188.500000   129.000000     360.000000   \n",
       "75%      5701.000000          2250.000000   160.000000     360.000000   \n",
       "max     23803.000000          8980.000000   400.000000     480.000000   \n",
       "\n",
       "        credit-history property-area loan-status  \n",
       "count       614.000000           614         614  \n",
       "unique             NaN             3           2  \n",
       "top                NaN     Semiurban           Y  \n",
       "freq               NaN           233         422  \n",
       "mean          0.855049           NaN         NaN  \n",
       "std           0.352339           NaN         NaN  \n",
       "min           0.000000           NaN         NaN  \n",
       "25%           1.000000           NaN         NaN  \n",
       "50%           1.000000           NaN         NaN  \n",
       "75%           1.000000           NaN         NaN  \n",
       "max           1.000000           NaN         NaN  "
      ]
     },
     "execution_count": 17,
     "metadata": {},
     "output_type": "execute_result"
    }
   ],
   "source": [
    "a1.describe(include=\"all\")"
   ]
  },
  {
   "cell_type": "markdown",
   "metadata": {},
   "source": [
    "## 3.2 - Encoding"
   ]
  },
  {
   "cell_type": "markdown",
   "metadata": {},
   "source": [
    "## 3.2.1 - Encoding target variable\n",
    "\n",
    "Since the target is binary we are replacing it with 1 and 0"
   ]
  },
  {
   "cell_type": "code",
   "execution_count": 18,
   "metadata": {},
   "outputs": [
    {
     "data": {
      "text/plain": [
       "Y    422\n",
       "N    192\n",
       "Name: loan-status, dtype: int64"
      ]
     },
     "execution_count": 18,
     "metadata": {},
     "output_type": "execute_result"
    }
   ],
   "source": [
    "Data1 = a1.drop(columns='loan-status')\n",
    "target1 = a1['loan-status']\n",
    "target1.value_counts()"
   ]
  },
  {
   "cell_type": "code",
   "execution_count": 19,
   "metadata": {},
   "outputs": [
    {
     "data": {
      "text/plain": [
       "1    422\n",
       "0    192\n",
       "Name: loan-status, dtype: int64"
      ]
     },
     "execution_count": 19,
     "metadata": {},
     "output_type": "execute_result"
    }
   ],
   "source": [
    "target1 = target1.replace({'Y': 1, 'N': 0})\n",
    "target1.value_counts()"
   ]
  },
  {
   "cell_type": "markdown",
   "metadata": {},
   "source": [
    "## 3.2.2 - Encoding Categorical Features\n",
    "\n",
    "Prior to modeling, it is essential to encode all categorical features (both the target feature and the descriptive features) into a set of numerical features."
   ]
  },
  {
   "cell_type": "code",
   "execution_count": 20,
   "metadata": {},
   "outputs": [],
   "source": [
    "Data2 = Data1.drop(columns='loanid')"
   ]
  },
  {
   "cell_type": "code",
   "execution_count": 21,
   "metadata": {},
   "outputs": [],
   "source": [
    "#assigning the Data 2 to categorical_cols to encode\n",
    "categorical_cols = Data2"
   ]
  },
  {
   "cell_type": "code",
   "execution_count": 22,
   "metadata": {},
   "outputs": [
    {
     "data": {
      "text/html": [
       "<div>\n",
       "<style scoped>\n",
       "    .dataframe tbody tr th:only-of-type {\n",
       "        vertical-align: middle;\n",
       "    }\n",
       "\n",
       "    .dataframe tbody tr th {\n",
       "        vertical-align: top;\n",
       "    }\n",
       "\n",
       "    .dataframe thead th {\n",
       "        text-align: right;\n",
       "    }\n",
       "</style>\n",
       "<table border=\"1\" class=\"dataframe\">\n",
       "  <thead>\n",
       "    <tr style=\"text-align: right;\">\n",
       "      <th></th>\n",
       "      <th>gender</th>\n",
       "      <th>married</th>\n",
       "      <th>dependents</th>\n",
       "      <th>education</th>\n",
       "      <th>self-employed</th>\n",
       "      <th>income</th>\n",
       "      <th>co-applicant-income</th>\n",
       "      <th>loan-amount</th>\n",
       "      <th>loan-duration</th>\n",
       "      <th>credit-history</th>\n",
       "      <th>property-area</th>\n",
       "    </tr>\n",
       "  </thead>\n",
       "  <tbody>\n",
       "    <tr>\n",
       "      <th>0</th>\n",
       "      <td>Male</td>\n",
       "      <td>No</td>\n",
       "      <td>0</td>\n",
       "      <td>Graduate</td>\n",
       "      <td>No</td>\n",
       "      <td>5849.0</td>\n",
       "      <td>0.0</td>\n",
       "      <td>137.405017</td>\n",
       "      <td>360.0</td>\n",
       "      <td>1.0</td>\n",
       "      <td>Urban</td>\n",
       "    </tr>\n",
       "    <tr>\n",
       "      <th>1</th>\n",
       "      <td>Male</td>\n",
       "      <td>Yes</td>\n",
       "      <td>1</td>\n",
       "      <td>Graduate</td>\n",
       "      <td>No</td>\n",
       "      <td>4583.0</td>\n",
       "      <td>1508.0</td>\n",
       "      <td>128.000000</td>\n",
       "      <td>360.0</td>\n",
       "      <td>1.0</td>\n",
       "      <td>Rural</td>\n",
       "    </tr>\n",
       "    <tr>\n",
       "      <th>2</th>\n",
       "      <td>Male</td>\n",
       "      <td>Yes</td>\n",
       "      <td>0</td>\n",
       "      <td>Graduate</td>\n",
       "      <td>Yes</td>\n",
       "      <td>3000.0</td>\n",
       "      <td>0.0</td>\n",
       "      <td>66.000000</td>\n",
       "      <td>360.0</td>\n",
       "      <td>1.0</td>\n",
       "      <td>Urban</td>\n",
       "    </tr>\n",
       "    <tr>\n",
       "      <th>3</th>\n",
       "      <td>Male</td>\n",
       "      <td>Yes</td>\n",
       "      <td>0</td>\n",
       "      <td>Not Graduate</td>\n",
       "      <td>No</td>\n",
       "      <td>2583.0</td>\n",
       "      <td>2358.0</td>\n",
       "      <td>120.000000</td>\n",
       "      <td>360.0</td>\n",
       "      <td>1.0</td>\n",
       "      <td>Urban</td>\n",
       "    </tr>\n",
       "    <tr>\n",
       "      <th>4</th>\n",
       "      <td>Male</td>\n",
       "      <td>No</td>\n",
       "      <td>0</td>\n",
       "      <td>Graduate</td>\n",
       "      <td>No</td>\n",
       "      <td>6000.0</td>\n",
       "      <td>0.0</td>\n",
       "      <td>141.000000</td>\n",
       "      <td>360.0</td>\n",
       "      <td>1.0</td>\n",
       "      <td>Urban</td>\n",
       "    </tr>\n",
       "  </tbody>\n",
       "</table>\n",
       "</div>"
      ],
      "text/plain": [
       "  gender married dependents     education self-employed  income  \\\n",
       "0   Male      No          0      Graduate            No  5849.0   \n",
       "1   Male     Yes          1      Graduate            No  4583.0   \n",
       "2   Male     Yes          0      Graduate           Yes  3000.0   \n",
       "3   Male     Yes          0  Not Graduate            No  2583.0   \n",
       "4   Male      No          0      Graduate            No  6000.0   \n",
       "\n",
       "   co-applicant-income  loan-amount  loan-duration  credit-history  \\\n",
       "0                  0.0   137.405017          360.0             1.0   \n",
       "1               1508.0   128.000000          360.0             1.0   \n",
       "2                  0.0    66.000000          360.0             1.0   \n",
       "3               2358.0   120.000000          360.0             1.0   \n",
       "4                  0.0   141.000000          360.0             1.0   \n",
       "\n",
       "  property-area  \n",
       "0         Urban  \n",
       "1         Rural  \n",
       "2         Urban  \n",
       "3         Urban  \n",
       "4         Urban  "
      ]
     },
     "execution_count": 22,
     "metadata": {},
     "output_type": "execute_result"
    }
   ],
   "source": [
    "categorical_cols.head()"
   ]
  },
  {
   "cell_type": "code",
   "execution_count": 23,
   "metadata": {},
   "outputs": [],
   "source": [
    "# encoding all the categorical columns\n",
    "for col in categorical_cols:\n",
    "    n = len(Data2[col].unique())\n",
    "    if (n == 2):\n",
    "        Data2[col] = pd.get_dummies(Data2[col], drop_first=True)\n",
    "\n",
    "# we are using one-hot-encoding for categorical features with >2 levels and converting it into binary levels (0,1)\n",
    "Data3 = pd.get_dummies(Data2)"
   ]
  },
  {
   "cell_type": "code",
   "execution_count": 24,
   "metadata": {},
   "outputs": [
    {
     "data": {
      "text/plain": [
       "Index(['gender', 'married', 'education', 'self-employed', 'income',\n",
       "       'co-applicant-income', 'loan-amount', 'loan-duration', 'credit-history',\n",
       "       'dependents_0', 'dependents_1', 'dependents_2', 'dependents_3+',\n",
       "       'property-area_Rural', 'property-area_Semiurban',\n",
       "       'property-area_Urban'],\n",
       "      dtype='object')"
      ]
     },
     "execution_count": 24,
     "metadata": {},
     "output_type": "execute_result"
    }
   ],
   "source": [
    "Data3.columns"
   ]
  },
  {
   "cell_type": "code",
   "execution_count": 25,
   "metadata": {},
   "outputs": [
    {
     "data": {
      "text/html": [
       "<div>\n",
       "<style scoped>\n",
       "    .dataframe tbody tr th:only-of-type {\n",
       "        vertical-align: middle;\n",
       "    }\n",
       "\n",
       "    .dataframe tbody tr th {\n",
       "        vertical-align: top;\n",
       "    }\n",
       "\n",
       "    .dataframe thead th {\n",
       "        text-align: right;\n",
       "    }\n",
       "</style>\n",
       "<table border=\"1\" class=\"dataframe\">\n",
       "  <thead>\n",
       "    <tr style=\"text-align: right;\">\n",
       "      <th></th>\n",
       "      <th>gender</th>\n",
       "      <th>married</th>\n",
       "      <th>education</th>\n",
       "      <th>self-employed</th>\n",
       "      <th>income</th>\n",
       "      <th>co-applicant-income</th>\n",
       "      <th>loan-amount</th>\n",
       "      <th>loan-duration</th>\n",
       "      <th>credit-history</th>\n",
       "      <th>dependents_0</th>\n",
       "      <th>dependents_1</th>\n",
       "      <th>dependents_2</th>\n",
       "      <th>dependents_3+</th>\n",
       "      <th>property-area_Rural</th>\n",
       "      <th>property-area_Semiurban</th>\n",
       "      <th>property-area_Urban</th>\n",
       "    </tr>\n",
       "  </thead>\n",
       "  <tbody>\n",
       "    <tr>\n",
       "      <th>424</th>\n",
       "      <td>1</td>\n",
       "      <td>1</td>\n",
       "      <td>0</td>\n",
       "      <td>0</td>\n",
       "      <td>14880.0</td>\n",
       "      <td>0.0</td>\n",
       "      <td>96.0</td>\n",
       "      <td>360.0</td>\n",
       "      <td>1</td>\n",
       "      <td>1</td>\n",
       "      <td>0</td>\n",
       "      <td>0</td>\n",
       "      <td>0</td>\n",
       "      <td>0</td>\n",
       "      <td>1</td>\n",
       "      <td>0</td>\n",
       "    </tr>\n",
       "    <tr>\n",
       "      <th>452</th>\n",
       "      <td>1</td>\n",
       "      <td>1</td>\n",
       "      <td>0</td>\n",
       "      <td>0</td>\n",
       "      <td>3948.0</td>\n",
       "      <td>1733.0</td>\n",
       "      <td>149.0</td>\n",
       "      <td>360.0</td>\n",
       "      <td>0</td>\n",
       "      <td>1</td>\n",
       "      <td>0</td>\n",
       "      <td>0</td>\n",
       "      <td>0</td>\n",
       "      <td>1</td>\n",
       "      <td>0</td>\n",
       "      <td>0</td>\n",
       "    </tr>\n",
       "    <tr>\n",
       "      <th>343</th>\n",
       "      <td>1</td>\n",
       "      <td>1</td>\n",
       "      <td>1</td>\n",
       "      <td>0</td>\n",
       "      <td>3173.0</td>\n",
       "      <td>0.0</td>\n",
       "      <td>74.0</td>\n",
       "      <td>360.0</td>\n",
       "      <td>1</td>\n",
       "      <td>0</td>\n",
       "      <td>0</td>\n",
       "      <td>0</td>\n",
       "      <td>1</td>\n",
       "      <td>0</td>\n",
       "      <td>1</td>\n",
       "      <td>0</td>\n",
       "    </tr>\n",
       "    <tr>\n",
       "      <th>603</th>\n",
       "      <td>1</td>\n",
       "      <td>0</td>\n",
       "      <td>0</td>\n",
       "      <td>0</td>\n",
       "      <td>3676.0</td>\n",
       "      <td>4301.0</td>\n",
       "      <td>172.0</td>\n",
       "      <td>360.0</td>\n",
       "      <td>1</td>\n",
       "      <td>1</td>\n",
       "      <td>0</td>\n",
       "      <td>0</td>\n",
       "      <td>0</td>\n",
       "      <td>1</td>\n",
       "      <td>0</td>\n",
       "      <td>0</td>\n",
       "    </tr>\n",
       "    <tr>\n",
       "      <th>444</th>\n",
       "      <td>1</td>\n",
       "      <td>1</td>\n",
       "      <td>0</td>\n",
       "      <td>0</td>\n",
       "      <td>7333.0</td>\n",
       "      <td>8333.0</td>\n",
       "      <td>175.0</td>\n",
       "      <td>300.0</td>\n",
       "      <td>1</td>\n",
       "      <td>1</td>\n",
       "      <td>0</td>\n",
       "      <td>0</td>\n",
       "      <td>0</td>\n",
       "      <td>1</td>\n",
       "      <td>0</td>\n",
       "      <td>0</td>\n",
       "    </tr>\n",
       "  </tbody>\n",
       "</table>\n",
       "</div>"
      ],
      "text/plain": [
       "     gender  married  education  self-employed   income  co-applicant-income  \\\n",
       "424       1        1          0              0  14880.0                  0.0   \n",
       "452       1        1          0              0   3948.0               1733.0   \n",
       "343       1        1          1              0   3173.0                  0.0   \n",
       "603       1        0          0              0   3676.0               4301.0   \n",
       "444       1        1          0              0   7333.0               8333.0   \n",
       "\n",
       "     loan-amount  loan-duration  credit-history  dependents_0  dependents_1  \\\n",
       "424         96.0          360.0               1             1             0   \n",
       "452        149.0          360.0               0             1             0   \n",
       "343         74.0          360.0               1             0             0   \n",
       "603        172.0          360.0               1             1             0   \n",
       "444        175.0          300.0               1             1             0   \n",
       "\n",
       "     dependents_2  dependents_3+  property-area_Rural  \\\n",
       "424             0              0                    0   \n",
       "452             0              0                    1   \n",
       "343             0              1                    0   \n",
       "603             0              0                    1   \n",
       "444             0              0                    1   \n",
       "\n",
       "     property-area_Semiurban  property-area_Urban  \n",
       "424                        1                    0  \n",
       "452                        0                    0  \n",
       "343                        1                    0  \n",
       "603                        0                    0  \n",
       "444                        0                    0  "
      ]
     },
     "execution_count": 25,
     "metadata": {},
     "output_type": "execute_result"
    }
   ],
   "source": [
    "Data3.sample(5, random_state=999)"
   ]
  },
  {
   "cell_type": "markdown",
   "metadata": {},
   "source": [
    "## 3.3 - Scaling of Features"
   ]
  },
  {
   "cell_type": "markdown",
   "metadata": {},
   "source": [
    "After encoding all the categorical features, we perform the scaling of the descriptive feature to be between 0 and 1 before fitting any classifiers.\n",
    "\n",
    "We can use the following scaling methods\n",
    "\n",
    "- Min-Max Scaling\n",
    "\n",
    "- Standard Scaling\n",
    "\n",
    "- Robust Scaling\n",
    "\n",
    "we will be using the Robust scaling, since we have outliers in our dataset.\n",
    "\n",
    "Before scaling,we will make a copy of our data to keep track of the column names."
   ]
  },
  {
   "cell_type": "code",
   "execution_count": 26,
   "metadata": {},
   "outputs": [],
   "source": [
    "from sklearn import preprocessing\n",
    "\n",
    "Data4 = Data3.copy()\n",
    "\n",
    "Data_scaler = preprocessing.RobustScaler()\n",
    "Data_scaler.fit(Data4)\n",
    "Data5 = Data_scaler.fit_transform(Data4)"
   ]
  },
  {
   "cell_type": "code",
   "execution_count": 27,
   "metadata": {},
   "outputs": [
    {
     "data": {
      "text/html": [
       "<div>\n",
       "<style scoped>\n",
       "    .dataframe tbody tr th:only-of-type {\n",
       "        vertical-align: middle;\n",
       "    }\n",
       "\n",
       "    .dataframe tbody tr th {\n",
       "        vertical-align: top;\n",
       "    }\n",
       "\n",
       "    .dataframe thead th {\n",
       "        text-align: right;\n",
       "    }\n",
       "</style>\n",
       "<table border=\"1\" class=\"dataframe\">\n",
       "  <thead>\n",
       "    <tr style=\"text-align: right;\">\n",
       "      <th></th>\n",
       "      <th>gender</th>\n",
       "      <th>married</th>\n",
       "      <th>education</th>\n",
       "      <th>self-employed</th>\n",
       "      <th>income</th>\n",
       "      <th>co-applicant-income</th>\n",
       "      <th>loan-amount</th>\n",
       "      <th>loan-duration</th>\n",
       "      <th>credit-history</th>\n",
       "      <th>dependents_0</th>\n",
       "      <th>dependents_1</th>\n",
       "      <th>dependents_2</th>\n",
       "      <th>dependents_3+</th>\n",
       "      <th>property-area_Rural</th>\n",
       "      <th>property-area_Semiurban</th>\n",
       "      <th>property-area_Urban</th>\n",
       "    </tr>\n",
       "  </thead>\n",
       "  <tbody>\n",
       "    <tr>\n",
       "      <th>424</th>\n",
       "      <td>0.0</td>\n",
       "      <td>0.0</td>\n",
       "      <td>0.0</td>\n",
       "      <td>0.0</td>\n",
       "      <td>3.919780</td>\n",
       "      <td>-0.528222</td>\n",
       "      <td>-0.552301</td>\n",
       "      <td>0.0</td>\n",
       "      <td>0.0</td>\n",
       "      <td>0.0</td>\n",
       "      <td>0.0</td>\n",
       "      <td>0.0</td>\n",
       "      <td>0.0</td>\n",
       "      <td>0.0</td>\n",
       "      <td>1.0</td>\n",
       "      <td>0.0</td>\n",
       "    </tr>\n",
       "    <tr>\n",
       "      <th>452</th>\n",
       "      <td>0.0</td>\n",
       "      <td>0.0</td>\n",
       "      <td>0.0</td>\n",
       "      <td>0.0</td>\n",
       "      <td>0.047990</td>\n",
       "      <td>0.242000</td>\n",
       "      <td>0.334728</td>\n",
       "      <td>0.0</td>\n",
       "      <td>-1.0</td>\n",
       "      <td>0.0</td>\n",
       "      <td>0.0</td>\n",
       "      <td>0.0</td>\n",
       "      <td>0.0</td>\n",
       "      <td>1.0</td>\n",
       "      <td>0.0</td>\n",
       "      <td>0.0</td>\n",
       "    </tr>\n",
       "    <tr>\n",
       "      <th>343</th>\n",
       "      <td>0.0</td>\n",
       "      <td>0.0</td>\n",
       "      <td>1.0</td>\n",
       "      <td>0.0</td>\n",
       "      <td>-0.226492</td>\n",
       "      <td>-0.528222</td>\n",
       "      <td>-0.920502</td>\n",
       "      <td>0.0</td>\n",
       "      <td>0.0</td>\n",
       "      <td>-1.0</td>\n",
       "      <td>0.0</td>\n",
       "      <td>0.0</td>\n",
       "      <td>1.0</td>\n",
       "      <td>0.0</td>\n",
       "      <td>1.0</td>\n",
       "      <td>0.0</td>\n",
       "    </tr>\n",
       "    <tr>\n",
       "      <th>603</th>\n",
       "      <td>0.0</td>\n",
       "      <td>-1.0</td>\n",
       "      <td>0.0</td>\n",
       "      <td>0.0</td>\n",
       "      <td>-0.048344</td>\n",
       "      <td>1.383333</td>\n",
       "      <td>0.719665</td>\n",
       "      <td>0.0</td>\n",
       "      <td>0.0</td>\n",
       "      <td>0.0</td>\n",
       "      <td>0.0</td>\n",
       "      <td>0.0</td>\n",
       "      <td>0.0</td>\n",
       "      <td>1.0</td>\n",
       "      <td>0.0</td>\n",
       "      <td>0.0</td>\n",
       "    </tr>\n",
       "    <tr>\n",
       "      <th>444</th>\n",
       "      <td>0.0</td>\n",
       "      <td>0.0</td>\n",
       "      <td>0.0</td>\n",
       "      <td>0.0</td>\n",
       "      <td>1.246857</td>\n",
       "      <td>3.175333</td>\n",
       "      <td>0.769874</td>\n",
       "      <td>-60.0</td>\n",
       "      <td>0.0</td>\n",
       "      <td>0.0</td>\n",
       "      <td>0.0</td>\n",
       "      <td>0.0</td>\n",
       "      <td>0.0</td>\n",
       "      <td>1.0</td>\n",
       "      <td>0.0</td>\n",
       "      <td>0.0</td>\n",
       "    </tr>\n",
       "  </tbody>\n",
       "</table>\n",
       "</div>"
      ],
      "text/plain": [
       "     gender  married  education  self-employed    income  co-applicant-income  \\\n",
       "424     0.0      0.0        0.0            0.0  3.919780            -0.528222   \n",
       "452     0.0      0.0        0.0            0.0  0.047990             0.242000   \n",
       "343     0.0      0.0        1.0            0.0 -0.226492            -0.528222   \n",
       "603     0.0     -1.0        0.0            0.0 -0.048344             1.383333   \n",
       "444     0.0      0.0        0.0            0.0  1.246857             3.175333   \n",
       "\n",
       "     loan-amount  loan-duration  credit-history  dependents_0  dependents_1  \\\n",
       "424    -0.552301            0.0             0.0           0.0           0.0   \n",
       "452     0.334728            0.0            -1.0           0.0           0.0   \n",
       "343    -0.920502            0.0             0.0          -1.0           0.0   \n",
       "603     0.719665            0.0             0.0           0.0           0.0   \n",
       "444     0.769874          -60.0             0.0           0.0           0.0   \n",
       "\n",
       "     dependents_2  dependents_3+  property-area_Rural  \\\n",
       "424           0.0            0.0                  0.0   \n",
       "452           0.0            0.0                  1.0   \n",
       "343           0.0            1.0                  0.0   \n",
       "603           0.0            0.0                  1.0   \n",
       "444           0.0            0.0                  1.0   \n",
       "\n",
       "     property-area_Semiurban  property-area_Urban  \n",
       "424                      1.0                  0.0  \n",
       "452                      0.0                  0.0  \n",
       "343                      1.0                  0.0  \n",
       "603                      0.0                  0.0  \n",
       "444                      0.0                  0.0  "
      ]
     },
     "execution_count": 27,
     "metadata": {},
     "output_type": "execute_result"
    }
   ],
   "source": [
    "pd.DataFrame(Data5, columns=Data4.columns).sample(5, random_state=999)"
   ]
  },
  {
   "cell_type": "markdown",
   "metadata": {},
   "source": [
    "## 3.4 - Feature Selection & Ranking"
   ]
  },
  {
   "cell_type": "markdown",
   "metadata": {},
   "source": [
    "it is one of the steps which can help us to predict accurately because the features in real have effect on the target feature and selecting the best features becomes very important which can be done using following methods:\n",
    "\n",
    "- F-Score(a statistical filter method)\n",
    "\n",
    "- Mutual information (an entropy-based filter method)\n",
    "\n",
    "- Random forest importance (an ensemble-based filter method)\n",
    "\n",
    "- SPSA (a new wrapper method developed by V. Aksakalli et al.)\n",
    "\n",
    "Here we are using the Random Forest Importance which rates the features from highest to lowest on the basis of their importance. "
   ]
  },
  {
   "cell_type": "code",
   "execution_count": 28,
   "metadata": {},
   "outputs": [
    {
     "data": {
      "text/plain": [
       "array(['credit-history', 'income', 'loan-amount', 'co-applicant-income',\n",
       "       'loan-duration', 'married', 'education', 'self-employed',\n",
       "       'property-area_Rural', 'gender', 'property-area_Semiurban',\n",
       "       'dependents_0', 'dependents_1', 'property-area_Urban',\n",
       "       'dependents_3+', 'dependents_2'], dtype=object)"
      ]
     },
     "execution_count": 28,
     "metadata": {},
     "output_type": "execute_result"
    }
   ],
   "source": [
    "# It gives the top best features according to their importance\n",
    "from sklearn.ensemble import RandomForestClassifier\n",
    "\n",
    "num_features = 16\n",
    "model_rfi = RandomForestClassifier(n_estimators=100)\n",
    "model_rfi.fit(Data5, target1)\n",
    "fs_indices_rfi = np.argsort(model_rfi.feature_importances_)[::-1][0:num_features]\n",
    "\n",
    "best_features_rfi = Data4.columns[fs_indices_rfi].values\n",
    "best_features_rfi"
   ]
  },
  {
   "cell_type": "code",
   "execution_count": 29,
   "metadata": {},
   "outputs": [
    {
     "data": {
      "text/plain": [
       "array([0.26963483, 0.19909131, 0.1814879 , 0.10953451, 0.04425558,\n",
       "       0.02776622, 0.02369013, 0.01917707, 0.01891459, 0.01842848,\n",
       "       0.01733124, 0.016921  , 0.01684579, 0.01425387, 0.01167934,\n",
       "       0.01098815])"
      ]
     },
     "execution_count": 29,
     "metadata": {},
     "output_type": "execute_result"
    }
   ],
   "source": [
    "# gives the best features rates based on their importance\n",
    "feature_importances_rfi = model_rfi.feature_importances_[fs_indices_rfi]\n",
    "feature_importances_rfi"
   ]
  },
  {
   "cell_type": "code",
   "execution_count": 30,
   "metadata": {
    "scrolled": true
   },
   "outputs": [
    {
     "data": {
      "text/plain": [
       "RendererRegistry.enable('notebook')"
      ]
     },
     "execution_count": 30,
     "metadata": {},
     "output_type": "execute_result"
    }
   ],
   "source": [
    "# we are using the altair to declare the links between data columns and visual encoding channels\n",
    "import altair as alt\n",
    "from vega_datasets import data\n",
    "alt.renderers.enable('notebook')"
   ]
  },
  {
   "cell_type": "code",
   "execution_count": 31,
   "metadata": {},
   "outputs": [],
   "source": [
    "def plot_imp(best_features, scores, method_name, color):\n",
    "    \n",
    "    df = pd.DataFrame({'features': best_features, \n",
    "                       'importances': scores})\n",
    "    \n",
    "    chart = alt.Chart(df, \n",
    "                      width=500, \n",
    "                      title=method_name + ' Feature Importances'\n",
    "                     ).mark_bar(opacity=0.85, \n",
    "                                color=color).encode(\n",
    "        alt.X('features', title='Feature', sort=None, axis=alt.AxisConfig(labelAngle=45)),\n",
    "        alt.Y('importances', title='Importance')\n",
    "    )\n",
    "    \n",
    "    return chart"
   ]
  },
  {
   "cell_type": "code",
   "execution_count": 32,
   "metadata": {},
   "outputs": [
    {
     "data": {
      "application/javascript": [
       "var spec = {\"config\": {\"view\": {\"width\": 400, \"height\": 300}, \"mark\": {\"tooltip\": null}}, \"data\": {\"name\": \"data-79c28bbcc22cb2453b7a0e26aebf7df1\"}, \"mark\": {\"type\": \"bar\", \"color\": \"red\", \"opacity\": 0.85}, \"encoding\": {\"x\": {\"type\": \"nominal\", \"axis\": {\"labelAngle\": 45}, \"field\": \"features\", \"sort\": null, \"title\": \"Feature\"}, \"y\": {\"type\": \"quantitative\", \"field\": \"importances\", \"title\": \"Importance\"}}, \"title\": \"Random Forest Feature Importances\", \"width\": 500, \"$schema\": \"https://vega.github.io/schema/vega-lite/v3.3.0.json\", \"datasets\": {\"data-79c28bbcc22cb2453b7a0e26aebf7df1\": [{\"features\": \"credit-history\", \"importances\": 0.26963483176017283}, {\"features\": \"income\", \"importances\": 0.1990913072087881}, {\"features\": \"loan-amount\", \"importances\": 0.18148789599021167}, {\"features\": \"co-applicant-income\", \"importances\": 0.10953450939944345}, {\"features\": \"loan-duration\", \"importances\": 0.04425558276772914}, {\"features\": \"married\", \"importances\": 0.02776622250837827}, {\"features\": \"education\", \"importances\": 0.023690126169662235}, {\"features\": \"self-employed\", \"importances\": 0.01917706883058445}, {\"features\": \"property-area_Rural\", \"importances\": 0.01891459001963142}, {\"features\": \"gender\", \"importances\": 0.0184284843319406}, {\"features\": \"property-area_Semiurban\", \"importances\": 0.017331241443470775}, {\"features\": \"dependents_0\", \"importances\": 0.01692099562463864}, {\"features\": \"dependents_1\", \"importances\": 0.016845790192937363}, {\"features\": \"property-area_Urban\", \"importances\": 0.01425386586561129}, {\"features\": \"dependents_3+\", \"importances\": 0.011679335404962354}, {\"features\": \"dependents_2\", \"importances\": 0.010988152481837203}]}};\n",
       "var opt = {};\n",
       "var type = \"vega-lite\";\n",
       "var id = \"406a211a-fbf2-488d-a1b2-6f2a1a925894\";\n",
       "\n",
       "var output_area = this;\n",
       "\n",
       "require([\"nbextensions/jupyter-vega/index\"], function(vega) {\n",
       "  var target = document.createElement(\"div\");\n",
       "  target.id = id;\n",
       "  target.className = \"vega-embed\";\n",
       "\n",
       "  var style = document.createElement(\"style\");\n",
       "  style.textContent = [\n",
       "    \".vega-embed .error p {\",\n",
       "    \"  color: firebrick;\",\n",
       "    \"  font-size: 14px;\",\n",
       "    \"}\",\n",
       "  ].join(\"\\\\n\");\n",
       "\n",
       "  // element is a jQuery wrapped DOM element inside the output area\n",
       "  // see http://ipython.readthedocs.io/en/stable/api/generated/\\\n",
       "  // IPython.display.html#IPython.display.Javascript.__init__\n",
       "  element[0].appendChild(target);\n",
       "  element[0].appendChild(style);\n",
       "\n",
       "  vega.render(\"#\" + id, spec, type, opt, output_area);\n",
       "}, function (err) {\n",
       "  if (err.requireType !== \"scripterror\") {\n",
       "    throw(err);\n",
       "  }\n",
       "});\n"
      ],
      "text/plain": [
       "<vega.vegalite.VegaLite at 0x17864a96fd0>"
      ]
     },
     "metadata": {
      "jupyter-vega": "#406a211a-fbf2-488d-a1b2-6f2a1a925894"
     },
     "output_type": "display_data"
    },
    {
     "data": {
      "text/plain": []
     },
     "execution_count": 32,
     "metadata": {},
     "output_type": "execute_result"
    },
    {
     "data": {
      "image/png": "[encoded data removed]"
     },
     "metadata": {
      "jupyter-vega": "#406a211a-fbf2-488d-a1b2-6f2a1a925894"
     },
     "output_type": "display_data"
    }
   ],
   "source": [
    "plot_imp(best_features_rfi, feature_importances_rfi, 'Random Forest', 'red')"
   ]
  },
  {
   "cell_type": "markdown",
   "metadata": {},
   "source": [
    "From the above visualisation we can see that the first highest important feature is 'credit history',\n",
    "followed by 'income', 'loan amount' and 'co applicant income'\n",
    "followed by the remaining features.\n",
    "\n",
    "From this we are considering the best features to be 1, 4, 5 10 and all the features of the dataset."
   ]
  },
  {
   "cell_type": "markdown",
   "metadata": {},
   "source": [
    "## 3.5 - Train-Test Splitting"
   ]
  },
  {
   "cell_type": "markdown",
   "metadata": {},
   "source": [
    "The dataset consists of 614 observations. We would split the descriptive features and the target feature into train and test partitions with a 70:30 ratio using stratification.That is, we use 70 % of the data to build a classifier and evaluate its performance on the test set of 30 %."
   ]
  },
  {
   "cell_type": "code",
   "execution_count": 33,
   "metadata": {
    "scrolled": true
   },
   "outputs": [
    {
     "name": "stdout",
     "output_type": "stream",
     "text": [
      "(429, 16)\n",
      "(185, 16)\n"
     ]
    }
   ],
   "source": [
    "from sklearn.model_selection import train_test_split\n",
    "\n",
    "data5train, data5test,target1train, target1test = train_test_split(Data5, target1, \n",
    "                                                    test_size = 0.3, random_state=10,\n",
    "                                                    stratify = target1)\n",
    "\n",
    "print(data5train.shape)\n",
    "print(data5test.shape)"
   ]
  },
  {
   "cell_type": "markdown",
   "metadata": {},
   "source": [
    "We can see that the 'train' data set has 429 observations with all the features and the 'test' data set has 185 observations with all the features. "
   ]
  },
  {
   "cell_type": "markdown",
   "metadata": {},
   "source": [
    "## 3.6 - Model Evaluation Strategy"
   ]
  },
  {
   "cell_type": "markdown",
   "metadata": {},
   "source": [
    "We will train and tune our models on 429 rows of training data and we will test them on 185 rows of test data i.e, 70% of the data is for building KNN classifier and the performance evaluation is obtained with the test data. \n",
    "\n",
    "The 5-fold stratified cross-validation evaluation method is used for hyperparameter tuning."
   ]
  },
  {
   "cell_type": "code",
   "execution_count": 34,
   "metadata": {},
   "outputs": [],
   "source": [
    "from sklearn.model_selection import StratifiedKFold, GridSearchCV\n",
    "\n",
    "cv_method = StratifiedKFold(n_splits=5, random_state=10)"
   ]
  },
  {
   "cell_type": "markdown",
   "metadata": {},
   "source": [
    "## 3.7 - Hyperparameter Tuning"
   ]
  },
  {
   "cell_type": "markdown",
   "metadata": {},
   "source": [
    "We are using the Pipeline, we stack feature selection and grid search for KNN hyper-parameter tuning via cross-validation.\n",
    "\n",
    "We will use the same Pipeline methodology for NB and DT.\n",
    "\n",
    "The KNN hyper-parameters are as follows:\n",
    "\n",
    "- number of neighbors (n_neighbors) \n",
    "\n",
    "- the distance metric p.\n",
    "\n",
    "- number of features (n_features)\n",
    "\n",
    "For feature selection, we use the powerful Random Forest Importance (RFI) method with 100 estimators. A trick here is that we need a bit of coding so that we can make RFI feature selection as part of the pipeline. For this reason, we define the custom RFIFeatureSelector() class below to pass in RFI as a \"step\" to the pipeline."
   ]
  },
  {
   "cell_type": "code",
   "execution_count": 35,
   "metadata": {},
   "outputs": [],
   "source": [
    "from sklearn.base import BaseEstimator, TransformerMixin\n",
    "\n",
    "# custom function for RFI feature selection inside a pipeline\n",
    "# here we use n_estimators=100\n",
    "class RFIFeatureSelector(BaseEstimator, TransformerMixin):\n",
    "    \n",
    "    # class constructor \n",
    "    # make sure class attributes end with a \"_\"\n",
    "    # per scikit-learn convention to avoid errors\n",
    "    def __init__(self, n_features_=16):\n",
    "        self.n_features_ = n_features_\n",
    "        self.fs_indices_ = None\n",
    "\n",
    "    # override the fit function\n",
    "    def fit(self, X, y):\n",
    "        from sklearn.ensemble import RandomForestClassifier\n",
    "        from numpy import argsort\n",
    "        model_rfi = RandomForestClassifier(n_estimators=100)\n",
    "        model_rfi.fit(X, y)\n",
    "        self.fs_indices_ = argsort(model_rfi.feature_importances_)[::-1][0:self.n_features_] \n",
    "        return self \n",
    "    \n",
    "    # override the transform function\n",
    "    def transform(self, X, y=None):\n",
    "        return X[:, self.fs_indices_]\n"
   ]
  },
  {
   "cell_type": "markdown",
   "metadata": {},
   "source": [
    "## 3.8 - Model Fitting"
   ]
  },
  {
   "cell_type": "markdown",
   "metadata": {},
   "source": [
    "## 3.8.1 - K-Nearest Neighbour"
   ]
  },
  {
   "cell_type": "code",
   "execution_count": 36,
   "metadata": {},
   "outputs": [],
   "source": [
    "from sklearn.pipeline import Pipeline\n",
    "from sklearn.neighbors import KNeighborsClassifier\n",
    "\n",
    "pipe_KNN = Pipeline(steps=[('rfi_fs', RFIFeatureSelector()), \n",
    "                           ('knn', KNeighborsClassifier())])\n",
    "\n",
    "params_pipe_KNN = {'rfi_fs__n_features_': [1, 4, 5, 10, Data5.shape[1]],\n",
    "                   'knn__n_neighbors': [1, 5, 10, 15, 20, 50],\n",
    "                   'knn__p': [1, 2]}\n",
    "\n",
    "gs_pipe_KNN = GridSearchCV(estimator=pipe_KNN, \n",
    "                           param_grid=params_pipe_KNN, \n",
    "                           cv=cv_method,\n",
    "                           refit=True,\n",
    "                           n_jobs=-2,\n",
    "                           scoring='roc_auc',\n",
    "                           verbose=1) "
   ]
  },
  {
   "cell_type": "markdown",
   "metadata": {},
   "source": [
    "We will fit the classifier on the train data and evaluate its performance on the test data. \n",
    "First fit the nearest neighbor classifier on the training set."
   ]
  },
  {
   "cell_type": "code",
   "execution_count": 37,
   "metadata": {},
   "outputs": [
    {
     "name": "stdout",
     "output_type": "stream",
     "text": [
      "Fitting 5 folds for each of 60 candidates, totalling 300 fits\n"
     ]
    },
    {
     "name": "stderr",
     "output_type": "stream",
     "text": [
      "[Parallel(n_jobs=-2)]: Using backend LokyBackend with 7 concurrent workers.\n",
      "[Parallel(n_jobs=-2)]: Done  36 tasks      | elapsed:   14.7s\n",
      "[Parallel(n_jobs=-2)]: Done 186 tasks      | elapsed:   26.7s\n",
      "[Parallel(n_jobs=-2)]: Done 300 out of 300 | elapsed:   35.7s finished\n"
     ]
    }
   ],
   "source": [
    "#fit the 5 fold \n",
    "gs_pipe_KNN.fit(data5train,target1train);"
   ]
  },
  {
   "cell_type": "code",
   "execution_count": 38,
   "metadata": {},
   "outputs": [
    {
     "data": {
      "text/plain": [
       "{'knn__n_neighbors': 10, 'knn__p': 1, 'rfi_fs__n_features_': 4}"
      ]
     },
     "execution_count": 38,
     "metadata": {},
     "output_type": "execute_result"
    }
   ],
   "source": [
    "# get the best parameters\n",
    "gs_pipe_KNN.best_params_"
   ]
  },
  {
   "cell_type": "markdown",
   "metadata": {},
   "source": [
    "we can see that the best performing parameters are \n",
    "\n",
    "- features - 4\n",
    "\n",
    "- p - 1\n",
    "\n",
    "- neighbours - 10"
   ]
  },
  {
   "cell_type": "code",
   "execution_count": 39,
   "metadata": {},
   "outputs": [
    {
     "data": {
      "text/plain": [
       "0.7403564894873023"
      ]
     },
     "execution_count": 39,
     "metadata": {},
     "output_type": "execute_result"
    }
   ],
   "source": [
    "#Prediction score of the Knn\n",
    "gs_pipe_KNN.best_score_"
   ]
  },
  {
   "cell_type": "markdown",
   "metadata": {},
   "source": [
    "The nearest neighbor classifier scores an accuracy rate of 74% in this particular case on the train data"
   ]
  },
  {
   "cell_type": "markdown",
   "metadata": {},
   "source": [
    "Even though these are the best values, let's have a look at the other combinations to see if the difference is rather significant or not. For this, we will make use of the function below to format the grid search outputs as a Pandas data frame."
   ]
  },
  {
   "cell_type": "code",
   "execution_count": 40,
   "metadata": {},
   "outputs": [],
   "source": [
    "# custom function to format the search results as a Pandas data frame\n",
    "def get_search_results(gs):\n",
    "\n",
    "    def model_result(scores, params):\n",
    "        scores = {'mean_score': np.mean(scores),\n",
    "             'std_score': np.std(scores),\n",
    "             'min_score': np.min(scores),\n",
    "             'max_score': np.max(scores)}\n",
    "        return pd.Series({**params,**scores})\n",
    "\n",
    "    models = []\n",
    "    scores = []\n",
    "\n",
    "    for i in range(gs.n_splits_):\n",
    "        key = f\"split{i}_test_score\"\n",
    "        r = gs.cv_results_[key]        \n",
    "        scores.append(r.reshape(-1,1))\n",
    "\n",
    "    all_scores = np.hstack(scores)\n",
    "    for p, s in zip(gs.cv_results_['params'], all_scores):\n",
    "        models.append((model_result(s, p)))\n",
    "\n",
    "    pipe_results = pd.concat(models, axis=1).T.sort_values(['mean_score'], ascending=False)\n",
    "\n",
    "    columns_first = ['mean_score', 'std_score', 'max_score', 'min_score']\n",
    "    columns = columns_first + [c for c in pipe_results.columns if c not in columns_first]\n",
    "\n",
    "    return pipe_results[columns]"
   ]
  },
  {
   "cell_type": "code",
   "execution_count": 41,
   "metadata": {
    "scrolled": true
   },
   "outputs": [
    {
     "data": {
      "text/html": [
       "<div>\n",
       "<style scoped>\n",
       "    .dataframe tbody tr th:only-of-type {\n",
       "        vertical-align: middle;\n",
       "    }\n",
       "\n",
       "    .dataframe tbody tr th {\n",
       "        vertical-align: top;\n",
       "    }\n",
       "\n",
       "    .dataframe thead th {\n",
       "        text-align: right;\n",
       "    }\n",
       "</style>\n",
       "<table border=\"1\" class=\"dataframe\">\n",
       "  <thead>\n",
       "    <tr style=\"text-align: right;\">\n",
       "      <th></th>\n",
       "      <th>mean_score</th>\n",
       "      <th>std_score</th>\n",
       "      <th>max_score</th>\n",
       "      <th>min_score</th>\n",
       "      <th>knn__n_neighbors</th>\n",
       "      <th>knn__p</th>\n",
       "      <th>rfi_fs__n_features_</th>\n",
       "    </tr>\n",
       "  </thead>\n",
       "  <tbody>\n",
       "    <tr>\n",
       "      <th>21</th>\n",
       "      <td>0.740371</td>\n",
       "      <td>0.037228</td>\n",
       "      <td>0.780917</td>\n",
       "      <td>0.672316</td>\n",
       "      <td>10.0</td>\n",
       "      <td>1.0</td>\n",
       "      <td>4.0</td>\n",
       "    </tr>\n",
       "    <tr>\n",
       "      <th>41</th>\n",
       "      <td>0.738194</td>\n",
       "      <td>0.014867</td>\n",
       "      <td>0.759887</td>\n",
       "      <td>0.713434</td>\n",
       "      <td>20.0</td>\n",
       "      <td>1.0</td>\n",
       "      <td>4.0</td>\n",
       "    </tr>\n",
       "    <tr>\n",
       "      <th>26</th>\n",
       "      <td>0.734314</td>\n",
       "      <td>0.035232</td>\n",
       "      <td>0.776522</td>\n",
       "      <td>0.670747</td>\n",
       "      <td>10.0</td>\n",
       "      <td>2.0</td>\n",
       "      <td>4.0</td>\n",
       "    </tr>\n",
       "    <tr>\n",
       "      <th>32</th>\n",
       "      <td>0.732281</td>\n",
       "      <td>0.030748</td>\n",
       "      <td>0.758318</td>\n",
       "      <td>0.677024</td>\n",
       "      <td>15.0</td>\n",
       "      <td>1.0</td>\n",
       "      <td>5.0</td>\n",
       "    </tr>\n",
       "    <tr>\n",
       "      <th>46</th>\n",
       "      <td>0.728833</td>\n",
       "      <td>0.028900</td>\n",
       "      <td>0.775895</td>\n",
       "      <td>0.689893</td>\n",
       "      <td>20.0</td>\n",
       "      <td>2.0</td>\n",
       "      <td>4.0</td>\n",
       "    </tr>\n",
       "  </tbody>\n",
       "</table>\n",
       "</div>"
      ],
      "text/plain": [
       "    mean_score  std_score  max_score  min_score  knn__n_neighbors  knn__p  \\\n",
       "21    0.740371   0.037228   0.780917   0.672316              10.0     1.0   \n",
       "41    0.738194   0.014867   0.759887   0.713434              20.0     1.0   \n",
       "26    0.734314   0.035232   0.776522   0.670747              10.0     2.0   \n",
       "32    0.732281   0.030748   0.758318   0.677024              15.0     1.0   \n",
       "46    0.728833   0.028900   0.775895   0.689893              20.0     2.0   \n",
       "\n",
       "    rfi_fs__n_features_  \n",
       "21                  4.0  \n",
       "41                  4.0  \n",
       "26                  4.0  \n",
       "32                  5.0  \n",
       "46                  4.0  "
      ]
     },
     "execution_count": 41,
     "metadata": {},
     "output_type": "execute_result"
    }
   ],
   "source": [
    "results_KNN = get_search_results(gs_pipe_KNN)\n",
    "results_KNN.head()"
   ]
  },
  {
   "cell_type": "markdown",
   "metadata": {},
   "source": [
    "From the above results we can see that the difference between the hyperparameter combinations is not really much when conditioned on the number of features selected.\n",
    "\n",
    "Let's visualize the results of the grid search corresponding to 4 selected features."
   ]
  },
  {
   "cell_type": "code",
   "execution_count": 42,
   "metadata": {},
   "outputs": [
    {
     "data": {
      "application/javascript": [
       "var spec = {\"config\": {\"view\": {\"width\": 400, \"height\": 300}, \"mark\": {\"tooltip\": null}}, \"data\": {\"name\": \"data-00eeb0b43fa7486b56331f2da265f0d5\"}, \"mark\": {\"type\": \"line\", \"point\": true}, \"encoding\": {\"color\": {\"type\": \"nominal\", \"field\": \"knn__p\", \"title\": \"p\"}, \"x\": {\"type\": \"quantitative\", \"field\": \"knn__n_neighbors\", \"title\": \"Number of Neighbors\"}, \"y\": {\"type\": \"quantitative\", \"field\": \"mean_score\", \"scale\": {\"zero\": false}, \"title\": \"AUC Score\"}}, \"title\": \"KNN Performance Comparison with 4 Features\", \"$schema\": \"https://vega.github.io/schema/vega-lite/v3.3.0.json\", \"datasets\": {\"data-00eeb0b43fa7486b56331f2da265f0d5\": [{\"mean_score\": 0.740371336134048, \"std_score\": 0.03722792059718137, \"max_score\": 0.7809165097300691, \"min_score\": 0.672316384180791, \"knn__n_neighbors\": 10.0, \"knn__p\": 1.0, \"rfi_fs__n_features_\": 4.0}, {\"mean_score\": 0.7381935390409967, \"std_score\": 0.014867044912814504, \"max_score\": 0.7598870056497176, \"min_score\": 0.7134337727558067, \"knn__n_neighbors\": 20.0, \"knn__p\": 1.0, \"rfi_fs__n_features_\": 4.0}, {\"mean_score\": 0.7343135834661259, \"std_score\": 0.03523168704482356, \"max_score\": 0.7765222849968613, \"min_score\": 0.6707470182046453, \"knn__n_neighbors\": 10.0, \"knn__p\": 2.0, \"rfi_fs__n_features_\": 4.0}, {\"mean_score\": 0.7288328745955865, \"std_score\": 0.028900336455743383, \"max_score\": 0.7758945386064031, \"min_score\": 0.6898932831136222, \"knn__n_neighbors\": 20.0, \"knn__p\": 2.0, \"rfi_fs__n_features_\": 4.0}, {\"mean_score\": 0.727543580085953, \"std_score\": 0.01883346021427388, \"max_score\": 0.7479598242310107, \"min_score\": 0.7049591964846202, \"knn__n_neighbors\": 50.0, \"knn__p\": 1.0, \"rfi_fs__n_features_\": 4.0}, {\"mean_score\": 0.7255830798203678, \"std_score\": 0.021617926922690198, \"max_score\": 0.7523540489642185, \"min_score\": 0.6898932831136221, \"knn__n_neighbors\": 15.0, \"knn__p\": 1.0, \"rfi_fs__n_features_\": 4.0}, {\"mean_score\": 0.7231831570814622, \"std_score\": 0.029876908118419095, \"max_score\": 0.7774639045825487, \"min_score\": 0.6964846202134337, \"knn__n_neighbors\": 5.0, \"knn__p\": 2.0, \"rfi_fs__n_features_\": 4.0}, {\"mean_score\": 0.7218214302960065, \"std_score\": 0.046193347454997966, \"max_score\": 0.7721280602636534, \"min_score\": 0.6547394852479598, \"knn__n_neighbors\": 15.0, \"knn__p\": 2.0, \"rfi_fs__n_features_\": 4.0}, {\"mean_score\": 0.7193828770099956, \"std_score\": 0.02803414005870181, \"max_score\": 0.7539234149403641, \"min_score\": 0.6829880728185812, \"knn__n_neighbors\": 50.0, \"knn__p\": 2.0, \"rfi_fs__n_features_\": 4.0}, {\"mean_score\": 0.7130860978318606, \"std_score\": 0.04132219571733315, \"max_score\": 0.7711864406779662, \"min_score\": 0.6734028683181226, \"knn__n_neighbors\": 5.0, \"knn__p\": 1.0, \"rfi_fs__n_features_\": 4.0}, {\"mean_score\": 0.6933314018059781, \"std_score\": 0.03244134316237654, \"max_score\": 0.7369742623979911, \"min_score\": 0.6575643440050221, \"knn__n_neighbors\": 1.0, \"knn__p\": 1.0, \"rfi_fs__n_features_\": 4.0}, {\"mean_score\": 0.6819353904099666, \"std_score\": 0.0330823986506714, \"max_score\": 0.7316384180790962, \"min_score\": 0.6460234680573663, \"knn__n_neighbors\": 1.0, \"knn__p\": 2.0, \"rfi_fs__n_features_\": 4.0}]}};\n",
       "var opt = {};\n",
       "var type = \"vega-lite\";\n",
       "var id = \"4738f4a1-bc12-479d-b991-dc59e23fa8ec\";\n",
       "\n",
       "var output_area = this;\n",
       "\n",
       "require([\"nbextensions/jupyter-vega/index\"], function(vega) {\n",
       "  var target = document.createElement(\"div\");\n",
       "  target.id = id;\n",
       "  target.className = \"vega-embed\";\n",
       "\n",
       "  var style = document.createElement(\"style\");\n",
       "  style.textContent = [\n",
       "    \".vega-embed .error p {\",\n",
       "    \"  color: firebrick;\",\n",
       "    \"  font-size: 14px;\",\n",
       "    \"}\",\n",
       "  ].join(\"\\\\n\");\n",
       "\n",
       "  // element is a jQuery wrapped DOM element inside the output area\n",
       "  // see http://ipython.readthedocs.io/en/stable/api/generated/\\\n",
       "  // IPython.display.html#IPython.display.Javascript.__init__\n",
       "  element[0].appendChild(target);\n",
       "  element[0].appendChild(style);\n",
       "\n",
       "  vega.render(\"#\" + id, spec, type, opt, output_area);\n",
       "}, function (err) {\n",
       "  if (err.requireType !== \"scripterror\") {\n",
       "    throw(err);\n",
       "  }\n",
       "});\n"
      ],
      "text/plain": [
       "<vega.vegalite.VegaLite at 0x17864ceab00>"
      ]
     },
     "metadata": {
      "jupyter-vega": "#4738f4a1-bc12-479d-b991-dc59e23fa8ec"
     },
     "output_type": "display_data"
    },
    {
     "data": {
      "text/plain": []
     },
     "execution_count": 42,
     "metadata": {},
     "output_type": "execute_result"
    },
    {
     "data": {
      "image/png": "[encoded data removed]"
     },
     "metadata": {
      "jupyter-vega": "#4738f4a1-bc12-479d-b991-dc59e23fa8ec"
     },
     "output_type": "display_data"
    }
   ],
   "source": [
    "import altair as alt\n",
    "\n",
    "results_KNN_4_features = results_KNN[results_KNN['rfi_fs__n_features_'] == 4.0]\n",
    "\n",
    "alt.Chart(results_KNN_4_features, \n",
    "          title='KNN Performance Comparison with 4 Features'\n",
    "         ).mark_line(point=True).encode(\n",
    "    alt.X('knn__n_neighbors', title='Number of Neighbors'),\n",
    "    alt.Y('mean_score', title='AUC Score', scale=alt.Scale(zero=False)),\n",
    "    alt.Color('knn__p:N', title='p')\n",
    ")"
   ]
  },
  {
   "cell_type": "markdown",
   "metadata": {},
   "source": [
    "## 3.8.2 - (Gaussian) Naive Bayes (NB)"
   ]
  },
  {
   "cell_type": "markdown",
   "metadata": {},
   "source": [
    "We implement a Gaussian Naive Bayes model. As we do not have any prior information about our dataset, we will optimize thevar_smoothing (a variant of Laplace smoothing). By default, the var_smoothing parameter's value is  10−9  . \n"
   ]
  },
  {
   "cell_type": "code",
   "execution_count": 43,
   "metadata": {},
   "outputs": [],
   "source": [
    "from sklearn.preprocessing import PowerTransformer\n",
    "Data5train_transformed = PowerTransformer().fit_transform(data5train)"
   ]
  },
  {
   "cell_type": "code",
   "execution_count": 44,
   "metadata": {},
   "outputs": [
    {
     "name": "stdout",
     "output_type": "stream",
     "text": [
      "Fitting 5 folds for each of 20 candidates, totalling 100 fits\n"
     ]
    },
    {
     "name": "stderr",
     "output_type": "stream",
     "text": [
      "[Parallel(n_jobs=-2)]: Using backend LokyBackend with 7 concurrent workers.\n",
      "[Parallel(n_jobs=-2)]: Done  36 tasks      | elapsed:    3.5s\n",
      "[Parallel(n_jobs=-2)]: Done 100 out of 100 | elapsed:    8.3s finished\n",
      "C:\\ProgramData\\Anaconda3\\lib\\site-packages\\sklearn\\model_selection\\_search.py:841: DeprecationWarning: The default of the `iid` parameter will change from True to False in version 0.22 and will be removed in 0.24. This will change numeric results when test-set sizes are unequal.\n",
      "  DeprecationWarning)\n"
     ]
    }
   ],
   "source": [
    "from sklearn.naive_bayes import GaussianNB\n",
    "from sklearn.model_selection import RandomizedSearchCV\n",
    "\n",
    "pipe_NB = Pipeline([('rfi_fs', RFIFeatureSelector()), \n",
    "                     ('nb', GaussianNB())])\n",
    "\n",
    "params_pipe_NB = {'rfi_fs__n_features_': [1, 4, 5, 10, Data5.shape[1]],\n",
    "                  'nb__var_smoothing': np.logspace(1,-3, num=200)}\n",
    "\n",
    "n_iter_search = 20\n",
    "gs_pipe_NB = RandomizedSearchCV(estimator=pipe_NB, \n",
    "                          param_distributions=params_pipe_NB, \n",
    "                          cv=cv_method,\n",
    "                          refit=True,\n",
    "                          n_jobs=-2,\n",
    "                          scoring='roc_auc',\n",
    "                          n_iter=n_iter_search,\n",
    "                          verbose=1) \n",
    "\n",
    "gs_pipe_NB.fit(Data5train_transformed, target1train);"
   ]
  },
  {
   "cell_type": "code",
   "execution_count": 45,
   "metadata": {},
   "outputs": [
    {
     "data": {
      "text/plain": [
       "{'rfi_fs__n_features_': 16, 'nb__var_smoothing': 0.4713753134116724}"
      ]
     },
     "execution_count": 45,
     "metadata": {},
     "output_type": "execute_result"
    }
   ],
   "source": [
    "gs_pipe_NB.best_params_"
   ]
  },
  {
   "cell_type": "code",
   "execution_count": 46,
   "metadata": {},
   "outputs": [
    {
     "data": {
      "text/plain": [
       "0.7625837149957098"
      ]
     },
     "execution_count": 46,
     "metadata": {},
     "output_type": "execute_result"
    }
   ],
   "source": [
    "gs_pipe_NB.best_score_"
   ]
  },
  {
   "cell_type": "markdown",
   "metadata": {},
   "source": [
    "The Naive Bayes predicts the correct labels on the train dataset with an accuracy rate of 76% which is higher than the KNN."
   ]
  },
  {
   "cell_type": "markdown",
   "metadata": {},
   "source": [
    "Even though these are the results from the best values, let's have a look at the other combinations to see if the difference is rather significant or not. For this, we will make use of the function below to format the grid search outputs as a Pandas data frame."
   ]
  },
  {
   "cell_type": "code",
   "execution_count": 47,
   "metadata": {
    "scrolled": true
   },
   "outputs": [
    {
     "data": {
      "text/html": [
       "<div>\n",
       "<style scoped>\n",
       "    .dataframe tbody tr th:only-of-type {\n",
       "        vertical-align: middle;\n",
       "    }\n",
       "\n",
       "    .dataframe tbody tr th {\n",
       "        vertical-align: top;\n",
       "    }\n",
       "\n",
       "    .dataframe thead th {\n",
       "        text-align: right;\n",
       "    }\n",
       "</style>\n",
       "<table border=\"1\" class=\"dataframe\">\n",
       "  <thead>\n",
       "    <tr style=\"text-align: right;\">\n",
       "      <th></th>\n",
       "      <th>mean_score</th>\n",
       "      <th>std_score</th>\n",
       "      <th>max_score</th>\n",
       "      <th>min_score</th>\n",
       "      <th>rfi_fs__n_features_</th>\n",
       "      <th>nb__var_smoothing</th>\n",
       "    </tr>\n",
       "  </thead>\n",
       "  <tbody>\n",
       "    <tr>\n",
       "      <th>4</th>\n",
       "      <td>0.762755</td>\n",
       "      <td>0.040157</td>\n",
       "      <td>0.836375</td>\n",
       "      <td>0.725675</td>\n",
       "      <td>16.0</td>\n",
       "      <td>0.471375</td>\n",
       "    </tr>\n",
       "    <tr>\n",
       "      <th>12</th>\n",
       "      <td>0.762741</td>\n",
       "      <td>0.038651</td>\n",
       "      <td>0.834420</td>\n",
       "      <td>0.727558</td>\n",
       "      <td>16.0</td>\n",
       "      <td>0.651734</td>\n",
       "    </tr>\n",
       "    <tr>\n",
       "      <th>13</th>\n",
       "      <td>0.759399</td>\n",
       "      <td>0.045729</td>\n",
       "      <td>0.840939</td>\n",
       "      <td>0.708726</td>\n",
       "      <td>16.0</td>\n",
       "      <td>0.038720</td>\n",
       "    </tr>\n",
       "    <tr>\n",
       "      <th>14</th>\n",
       "      <td>0.758395</td>\n",
       "      <td>0.046424</td>\n",
       "      <td>0.840939</td>\n",
       "      <td>0.706842</td>\n",
       "      <td>16.0</td>\n",
       "      <td>0.003181</td>\n",
       "    </tr>\n",
       "    <tr>\n",
       "      <th>15</th>\n",
       "      <td>0.752224</td>\n",
       "      <td>0.018946</td>\n",
       "      <td>0.787484</td>\n",
       "      <td>0.731325</td>\n",
       "      <td>10.0</td>\n",
       "      <td>1.189534</td>\n",
       "    </tr>\n",
       "  </tbody>\n",
       "</table>\n",
       "</div>"
      ],
      "text/plain": [
       "    mean_score  std_score  max_score  min_score  rfi_fs__n_features_  \\\n",
       "4     0.762755   0.040157   0.836375   0.725675                 16.0   \n",
       "12    0.762741   0.038651   0.834420   0.727558                 16.0   \n",
       "13    0.759399   0.045729   0.840939   0.708726                 16.0   \n",
       "14    0.758395   0.046424   0.840939   0.706842                 16.0   \n",
       "15    0.752224   0.018946   0.787484   0.731325                 10.0   \n",
       "\n",
       "    nb__var_smoothing  \n",
       "4            0.471375  \n",
       "12           0.651734  \n",
       "13           0.038720  \n",
       "14           0.003181  \n",
       "15           1.189534  "
      ]
     },
     "execution_count": 47,
     "metadata": {},
     "output_type": "execute_result"
    }
   ],
   "source": [
    "results_NB = get_search_results(gs_pipe_NB)\n",
    "results_NB.head()"
   ]
  },
  {
   "cell_type": "markdown",
   "metadata": {},
   "source": [
    "From the above results we can see that the difference between the hyperparameter combinations is not really much when conditioned on the number of features selected.\n",
    "\n",
    "Let's visualize the results of the grid search corresponding to 16 selected features."
   ]
  },
  {
   "cell_type": "code",
   "execution_count": 48,
   "metadata": {},
   "outputs": [
    {
     "data": {
      "application/javascript": [
       "var spec = {\"config\": {\"view\": {\"width\": 400, \"height\": 300}, \"mark\": {\"tooltip\": null}}, \"data\": {\"name\": \"data-f3278b36eed2f794efcf14c4cbfd64e9\"}, \"mark\": {\"type\": \"line\", \"point\": true}, \"encoding\": {\"x\": {\"type\": \"quantitative\", \"field\": \"nb__var_smoothing\", \"title\": \"Var. Smoothing\"}, \"y\": {\"type\": \"quantitative\", \"field\": \"mean_score\", \"scale\": {\"zero\": false}, \"title\": \"AUC Score\"}}, \"title\": \"NB Performance Comparison with 16 Features\", \"$schema\": \"https://vega.github.io/schema/vega-lite/v3.3.0.json\", \"datasets\": {\"data-f3278b36eed2f794efcf14c4cbfd64e9\": [{\"mean_score\": 0.762755323772273, \"std_score\": 0.040157222510189675, \"max_score\": 0.8363754889178618, \"min_score\": 0.7256748273697426, \"rfi_fs__n_features_\": 16.0, \"nb__var_smoothing\": 0.4713753134116724}, {\"mean_score\": 0.7627408373171085, \"std_score\": 0.03865068527199997, \"max_score\": 0.834419817470665, \"min_score\": 0.7275580665411174, \"rfi_fs__n_features_\": 16.0, \"nb__var_smoothing\": 0.6517339604882424}, {\"mean_score\": 0.7593992949925154, \"std_score\": 0.04572887036293394, \"max_score\": 0.8409387222946545, \"min_score\": 0.7087256748273697, \"rfi_fs__n_features_\": 16.0, \"nb__var_smoothing\": 0.038720387818125535}, {\"mean_score\": 0.7583949007677822, \"std_score\": 0.04642398574365822, \"max_score\": 0.8409387222946545, \"min_score\": 0.706842435655995, \"rfi_fs__n_features_\": 16.0, \"nb__var_smoothing\": 0.0031806256927941192}]}};\n",
       "var opt = {};\n",
       "var type = \"vega-lite\";\n",
       "var id = \"ed3841bd-cac6-426c-b23d-a9f56b5721a8\";\n",
       "\n",
       "var output_area = this;\n",
       "\n",
       "require([\"nbextensions/jupyter-vega/index\"], function(vega) {\n",
       "  var target = document.createElement(\"div\");\n",
       "  target.id = id;\n",
       "  target.className = \"vega-embed\";\n",
       "\n",
       "  var style = document.createElement(\"style\");\n",
       "  style.textContent = [\n",
       "    \".vega-embed .error p {\",\n",
       "    \"  color: firebrick;\",\n",
       "    \"  font-size: 14px;\",\n",
       "    \"}\",\n",
       "  ].join(\"\\\\n\");\n",
       "\n",
       "  // element is a jQuery wrapped DOM element inside the output area\n",
       "  // see http://ipython.readthedocs.io/en/stable/api/generated/\\\n",
       "  // IPython.display.html#IPython.display.Javascript.__init__\n",
       "  element[0].appendChild(target);\n",
       "  element[0].appendChild(style);\n",
       "\n",
       "  vega.render(\"#\" + id, spec, type, opt, output_area);\n",
       "}, function (err) {\n",
       "  if (err.requireType !== \"scripterror\") {\n",
       "    throw(err);\n",
       "  }\n",
       "});\n"
      ],
      "text/plain": [
       "<vega.vegalite.VegaLite at 0x17864d09eb8>"
      ]
     },
     "metadata": {
      "jupyter-vega": "#ed3841bd-cac6-426c-b23d-a9f56b5721a8"
     },
     "output_type": "display_data"
    },
    {
     "data": {
      "text/plain": []
     },
     "execution_count": 48,
     "metadata": {},
     "output_type": "execute_result"
    },
    {
     "data": {
      "image/png": "[encoded data removed]"
     },
     "metadata": {
      "jupyter-vega": "#ed3841bd-cac6-426c-b23d-a9f56b5721a8"
     },
     "output_type": "display_data"
    }
   ],
   "source": [
    "results_NB_16_features = results_NB[results_NB['rfi_fs__n_features_'] == 16.0]\n",
    "\n",
    "alt.Chart(results_NB_16_features, \n",
    "          title='NB Performance Comparison with 16 Features'\n",
    "         ).mark_line(point=True).encode(\n",
    "    alt.X('nb__var_smoothing', title='Var. Smoothing'),\n",
    "    alt.Y('mean_score', title='AUC Score', scale=alt.Scale(zero=False))\n",
    ")"
   ]
  },
  {
   "cell_type": "markdown",
   "metadata": {},
   "source": [
    "## 3.8.3 - Decision Trees (DT)"
   ]
  },
  {
   "cell_type": "markdown",
   "metadata": {},
   "source": [
    "We build a DT using gini index to maximize information gain. We aim to determine the optimal combinations of maximum depth (max_depth) and minimum sample split (min_samples_split)."
   ]
  },
  {
   "cell_type": "code",
   "execution_count": 49,
   "metadata": {},
   "outputs": [
    {
     "name": "stdout",
     "output_type": "stream",
     "text": [
      "Fitting 5 folds for each of 30 candidates, totalling 150 fits\n"
     ]
    },
    {
     "name": "stderr",
     "output_type": "stream",
     "text": [
      "[Parallel(n_jobs=-2)]: Using backend LokyBackend with 7 concurrent workers.\n",
      "[Parallel(n_jobs=-2)]: Done  36 tasks      | elapsed:    3.5s\n",
      "[Parallel(n_jobs=-2)]: Done 150 out of 150 | elapsed:   12.1s finished\n"
     ]
    }
   ],
   "source": [
    "from sklearn.tree import DecisionTreeClassifier\n",
    "\n",
    "pipe_DT = Pipeline([('rfi_fs', RFIFeatureSelector()),\n",
    "                    ('dt', DecisionTreeClassifier(criterion='gini'))])\n",
    "\n",
    "params_pipe_DT = {'rfi_fs__n_features_': [1, 4, 5, 10, Data5.shape[1]],\n",
    "                  'dt__max_depth': [3, 4, 5],\n",
    "                  'dt__min_samples_split': [2, 5]}\n",
    "\n",
    "gs_pipe_DT = GridSearchCV(estimator=pipe_DT, \n",
    "                          param_grid=params_pipe_DT, \n",
    "                          cv=cv_method,\n",
    "                          refit=True,\n",
    "                          n_jobs=-2,\n",
    "                          scoring='roc_auc',\n",
    "                          verbose=1) \n",
    "\n",
    "gs_pipe_DT.fit(data5train, target1train);"
   ]
  },
  {
   "cell_type": "code",
   "execution_count": 50,
   "metadata": {},
   "outputs": [
    {
     "data": {
      "text/plain": [
       "{'dt__max_depth': 5, 'dt__min_samples_split': 5, 'rfi_fs__n_features_': 4}"
      ]
     },
     "execution_count": 50,
     "metadata": {},
     "output_type": "execute_result"
    }
   ],
   "source": [
    "gs_pipe_DT.best_params_"
   ]
  },
  {
   "cell_type": "code",
   "execution_count": 51,
   "metadata": {
    "scrolled": true
   },
   "outputs": [
    {
     "data": {
      "text/plain": [
       "0.7195857605462125"
      ]
     },
     "execution_count": 51,
     "metadata": {},
     "output_type": "execute_result"
    }
   ],
   "source": [
    "gs_pipe_DT.best_score_"
   ]
  },
  {
   "cell_type": "markdown",
   "metadata": {},
   "source": [
    "The decision tree predicts the correct labels on the train dataset with an accuracy rate of 71%. \n",
    "\n",
    "We observe that the accuracy of the Decision tree is slightly lower as compared to that of the nearest neighbor classifier and Naive Bayes model."
   ]
  },
  {
   "cell_type": "code",
   "execution_count": 52,
   "metadata": {},
   "outputs": [
    {
     "data": {
      "application/javascript": [
       "var spec = {\"config\": {\"view\": {\"width\": 400, \"height\": 300}, \"mark\": {\"tooltip\": null}}, \"data\": {\"name\": \"data-eb881a127d451c32ef2f0e7b3b4cd275\"}, \"mark\": {\"type\": \"line\", \"point\": true}, \"encoding\": {\"color\": {\"type\": \"nominal\", \"field\": \"dt__max_depth\", \"title\": \"Max Depth\"}, \"x\": {\"type\": \"quantitative\", \"field\": \"dt__min_samples_split\", \"title\": \"Min Samples for Split\"}, \"y\": {\"type\": \"quantitative\", \"field\": \"mean_score\", \"scale\": {\"zero\": false}, \"title\": \"AUC Score\"}}, \"title\": \"DT Performance Comparison with 4 Features\", \"$schema\": \"https://vega.github.io/schema/vega-lite/v3.3.0.json\", \"datasets\": {\"data-eb881a127d451c32ef2f0e7b3b4cd275\": [{\"mean_score\": 0.7196170747018205, \"std_score\": 0.05437418060787612, \"max_score\": 0.7944130571249216, \"min_score\": 0.6544256120527308, \"dt__max_depth\": 5.0, \"dt__min_samples_split\": 5.0, \"rfi_fs__n_features_\": 4.0}, {\"mean_score\": 0.7052899705442078, \"std_score\": 0.04473547742436948, \"max_score\": 0.758631512868801, \"min_score\": 0.6544256120527308, \"dt__max_depth\": 5.0, \"dt__min_samples_split\": 2.0, \"rfi_fs__n_features_\": 4.0}, {\"mean_score\": 0.7037568207059733, \"std_score\": 0.05128419146791529, \"max_score\": 0.7551789077212807, \"min_score\": 0.6258631512868802, \"dt__max_depth\": 3.0, \"dt__min_samples_split\": 2.0, \"rfi_fs__n_features_\": 4.0}, {\"mean_score\": 0.7036940460669274, \"std_score\": 0.05137960248097006, \"max_score\": 0.7551789077212807, \"min_score\": 0.625549278091651, \"dt__max_depth\": 3.0, \"dt__min_samples_split\": 5.0, \"rfi_fs__n_features_\": 4.0}, {\"mean_score\": 0.7026268772031484, \"std_score\": 0.05485285955488642, \"max_score\": 0.785624607658506, \"min_score\": 0.6415568110483365, \"dt__max_depth\": 4.0, \"dt__min_samples_split\": 5.0, \"rfi_fs__n_features_\": 4.0}, {\"mean_score\": 0.6953450190738326, \"std_score\": 0.044857358773648465, \"max_score\": 0.7492153170119272, \"min_score\": 0.6415568110483365, \"dt__max_depth\": 4.0, \"dt__min_samples_split\": 2.0, \"rfi_fs__n_features_\": 4.0}]}};\n",
       "var opt = {};\n",
       "var type = \"vega-lite\";\n",
       "var id = \"3570d390-2d48-4560-80f4-d508a4acafb3\";\n",
       "\n",
       "var output_area = this;\n",
       "\n",
       "require([\"nbextensions/jupyter-vega/index\"], function(vega) {\n",
       "  var target = document.createElement(\"div\");\n",
       "  target.id = id;\n",
       "  target.className = \"vega-embed\";\n",
       "\n",
       "  var style = document.createElement(\"style\");\n",
       "  style.textContent = [\n",
       "    \".vega-embed .error p {\",\n",
       "    \"  color: firebrick;\",\n",
       "    \"  font-size: 14px;\",\n",
       "    \"}\",\n",
       "  ].join(\"\\\\n\");\n",
       "\n",
       "  // element is a jQuery wrapped DOM element inside the output area\n",
       "  // see http://ipython.readthedocs.io/en/stable/api/generated/\\\n",
       "  // IPython.display.html#IPython.display.Javascript.__init__\n",
       "  element[0].appendChild(target);\n",
       "  element[0].appendChild(style);\n",
       "\n",
       "  vega.render(\"#\" + id, spec, type, opt, output_area);\n",
       "}, function (err) {\n",
       "  if (err.requireType !== \"scripterror\") {\n",
       "    throw(err);\n",
       "  }\n",
       "});\n"
      ],
      "text/plain": [
       "<vega.vegalite.VegaLite at 0x17864cf2780>"
      ]
     },
     "metadata": {
      "jupyter-vega": "#3570d390-2d48-4560-80f4-d508a4acafb3"
     },
     "output_type": "display_data"
    },
    {
     "data": {
      "text/plain": []
     },
     "execution_count": 52,
     "metadata": {},
     "output_type": "execute_result"
    },
    {
     "data": {
      "image/png": "[encoded data removed]"
     },
     "metadata": {
      "jupyter-vega": "#3570d390-2d48-4560-80f4-d508a4acafb3"
     },
     "output_type": "display_data"
    }
   ],
   "source": [
    "results_DT = get_search_results(gs_pipe_DT)\n",
    "\n",
    "results_DT_4_features = results_DT[results_DT['rfi_fs__n_features_'] == 4.0]\n",
    "\n",
    "alt.Chart(results_DT_4_features, \n",
    "          title='DT Performance Comparison with 4 Features'\n",
    "         ).mark_line(point=True).encode(\n",
    "    alt.X('dt__min_samples_split', title='Min Samples for Split'),\n",
    "    alt.Y('mean_score', title='AUC Score', scale=alt.Scale(zero=False)),\n",
    "    alt.Color('dt__max_depth:N', title='Max Depth')\n",
    ")"
   ]
  },
  {
   "cell_type": "markdown",
   "metadata": {},
   "source": [
    "We notice that the optimal value of maximum depth hyperparameter is at 4 which is not at the end of its search space. \n",
    "\n",
    "\n",
    "\n",
    "Thus, we  do not need to go beyond what we already tried to make sure that we are not missing out on even better values. "
   ]
  },
  {
   "cell_type": "markdown",
   "metadata": {},
   "source": []
  },
  {
   "cell_type": "markdown",
   "metadata": {},
   "source": []
  },
  {
   "cell_type": "markdown",
   "metadata": {},
   "source": []
  },
  {
   "cell_type": "markdown",
   "metadata": {},
   "source": []
  },
  {
   "cell_type": "markdown",
   "metadata": {},
   "source": []
  },
  {
   "cell_type": "markdown",
   "metadata": {},
   "source": []
  },
  {
   "cell_type": "markdown",
   "metadata": {},
   "source": []
  },
  {
   "cell_type": "markdown",
   "metadata": {},
   "source": [
    "# 4 - Results"
   ]
  },
  {
   "cell_type": "markdown",
   "metadata": {},
   "source": [
    "## Performance Comparison"
   ]
  },
  {
   "cell_type": "markdown",
   "metadata": {},
   "source": [
    "We have optimized each one of the three classifiers using the training data. We now fit the optimized models on the test data in a cross-validated fashion. But since cross validation itself is a random process, we perform pairwise t-tests to determine if any difference between the performance of any two optimized classifiers is statistically significant \n",
    "\n",
    "First, we perform 10-fold stratified cross-validation on each best model (without any repetitions).\n"
   ]
  },
  {
   "cell_type": "code",
   "execution_count": 53,
   "metadata": {},
   "outputs": [
    {
     "data": {
      "text/plain": [
       "0.6890705128205129"
      ]
     },
     "execution_count": 53,
     "metadata": {},
     "output_type": "execute_result"
    }
   ],
   "source": [
    "from sklearn.model_selection import cross_val_score\n",
    "\n",
    "cv_method_ttest = StratifiedKFold(n_splits=10, random_state=111)\n",
    "\n",
    "cv_results_KNN = cross_val_score(estimator=gs_pipe_KNN.best_estimator_,\n",
    "                                 X=data5test,\n",
    "                                 y=target1test, \n",
    "                                 cv=cv_method_ttest, \n",
    "                                 n_jobs=-2,\n",
    "                                 scoring='roc_auc')\n",
    "cv_results_KNN.mean()"
   ]
  },
  {
   "cell_type": "code",
   "execution_count": 54,
   "metadata": {},
   "outputs": [
    {
     "data": {
      "text/plain": [
       "0.7726709401709402"
      ]
     },
     "execution_count": 54,
     "metadata": {},
     "output_type": "execute_result"
    }
   ],
   "source": [
    "data5test_transformed = PowerTransformer().fit_transform(data5test)\n",
    "\n",
    "cv_results_NB = cross_val_score(estimator=gs_pipe_NB.best_estimator_,\n",
    "                                X=data5test_transformed,\n",
    "                                y=target1test, \n",
    "                                cv=cv_method_ttest, \n",
    "                                n_jobs=-2,\n",
    "                                scoring='roc_auc')\n",
    "cv_results_NB.mean()"
   ]
  },
  {
   "cell_type": "code",
   "execution_count": 55,
   "metadata": {},
   "outputs": [
    {
     "data": {
      "text/plain": [
       "0.7388034188034188"
      ]
     },
     "execution_count": 55,
     "metadata": {},
     "output_type": "execute_result"
    }
   ],
   "source": [
    "cv_results_DT = cross_val_score(estimator=gs_pipe_DT.best_estimator_,\n",
    "                                X=data5test,\n",
    "                                y=target1test, \n",
    "                                cv=cv_method_ttest, \n",
    "                                n_jobs=-2,\n",
    "                                scoring='roc_auc')\n",
    "cv_results_DT.mean()"
   ]
  },
  {
   "cell_type": "markdown",
   "metadata": {},
   "source": [
    "Second, we conduct a paired t-test for the AUC score between the following model combinations:\n",
    "\n",
    "- KNN vs. NB,\n",
    "\n",
    "- KNN vs. DT, and\n",
    "\n",
    "- DT vs. NB."
   ]
  },
  {
   "cell_type": "code",
   "execution_count": 56,
   "metadata": {},
   "outputs": [
    {
     "name": "stdout",
     "output_type": "stream",
     "text": [
      "Ttest_relResult(statistic=-1.3118867867563508, pvalue=0.22203247972510284)\n",
      "Ttest_relResult(statistic=1.3079759043722465, pvalue=0.2233008352178949)\n",
      "Ttest_relResult(statistic=-0.6397227979963507, pvalue=0.5382942743441008)\n"
     ]
    }
   ],
   "source": [
    "from scipy import stats\n",
    "\n",
    "print(stats.ttest_rel(cv_results_KNN, cv_results_NB))\n",
    "print(stats.ttest_rel(cv_results_DT, cv_results_KNN))\n",
    "print(stats.ttest_rel(cv_results_DT, cv_results_NB))"
   ]
  },
  {
   "cell_type": "markdown",
   "metadata": {},
   "source": [
    "A p-value smaller than 0.05 indicates a statistically significant difference. Looking at these results, since all the values are higher than 0.05, amongst the 3 classifiers, Gaussian Naive Bayes model has the smallest value of 0.28 as compared to KNN and Decision tree model. Thus, \n",
    "\n",
    "Though we used AUC to optimize the algorithm hyperparameters, we shall consider the following metrics to evaluate models based on the test set:\n",
    "\n",
    "- Accuracy\n",
    "\n",
    "- Precision\n",
    "\n",
    "- Recall\n",
    "\n",
    "- F1 Score (the harmonic average of precision and recall)\n",
    "\n",
    "- Confusion Matrix\n",
    "\n",
    "These metrics can be computed using classification_report from sklearn.metrics. The classification reports are shown below."
   ]
  },
  {
   "cell_type": "code",
   "execution_count": 57,
   "metadata": {},
   "outputs": [],
   "source": [
    "pred_KNN = gs_pipe_KNN.predict(data5test)"
   ]
  },
  {
   "cell_type": "code",
   "execution_count": 58,
   "metadata": {},
   "outputs": [],
   "source": [
    "data5transformed = PowerTransformer().fit_transform(data5test)\n",
    "pred_NB = gs_pipe_NB.predict(data5transformed)"
   ]
  },
  {
   "cell_type": "code",
   "execution_count": 59,
   "metadata": {},
   "outputs": [],
   "source": [
    "pred_DT = gs_pipe_DT.predict(data5test)"
   ]
  },
  {
   "cell_type": "markdown",
   "metadata": {},
   "source": [
    "The confusion matrices are given below."
   ]
  },
  {
   "cell_type": "code",
   "execution_count": 60,
   "metadata": {},
   "outputs": [
    {
     "name": "stdout",
     "output_type": "stream",
     "text": [
      "\n",
      "Confusion matrix for K-Nearest Neighbor\n",
      "[[ 27  31]\n",
      " [  9 118]]\n",
      "\n",
      "Classification report for K-Nearest Neighbor\n",
      "              precision    recall  f1-score   support\n",
      "\n",
      "           0       0.75      0.47      0.57        58\n",
      "           1       0.79      0.93      0.86       127\n",
      "\n",
      "   micro avg       0.78      0.78      0.78       185\n",
      "   macro avg       0.77      0.70      0.71       185\n",
      "weighted avg       0.78      0.78      0.77       185\n",
      "\n"
     ]
    },
    {
     "data": {
      "image/png": "[encoded data removed]",
      "text/plain": [
       "<Figure size 432x288 with 2 Axes>"
      ]
     },
     "metadata": {
      "needs_background": "light"
     },
     "output_type": "display_data"
    }
   ],
   "source": [
    "from sklearn import metrics\n",
    "from sklearn.metrics import confusion_matrix\n",
    "\n",
    "#KNN\n",
    "#cm_vis = confusion_matrix(predicted,target_test,[1,0])\n",
    "cm_vis0 = confusion_matrix(pred_KNN,target1test)\n",
    "sns.heatmap(cm_vis0, annot=True, fmt='.2f' )\n",
    "#sns.heatmap(cm_vis)\n",
    "plt.ylabel('True class')\n",
    "plt.xlabel('Predicted class')\n",
    "plt.title('KNN')\n",
    "\n",
    "\n",
    "print(\"\\nConfusion matrix for K-Nearest Neighbor\") \n",
    "print(metrics.confusion_matrix(target1test, pred_KNN))\n",
    "\n",
    "print(\"\\nClassification report for K-Nearest Neighbor\") \n",
    "print(metrics.classification_report(target1test, pred_KNN))"
   ]
  },
  {
   "cell_type": "markdown",
   "metadata": {},
   "source": [
    "From the above results of the KNN algorithm which has a score of 68.90% we can see that the figure table of confusion matrix indicates that for the people who got the loan(1) gave a precision of 79% and recall of 93%. \n",
    "Also, for the people who did not get the loan(0) gave  \n",
    "a precision and recall values as 75% and 47% respectively."
   ]
  },
  {
   "cell_type": "code",
   "execution_count": 61,
   "metadata": {},
   "outputs": [
    {
     "name": "stdout",
     "output_type": "stream",
     "text": [
      "\n",
      "Confusion matrix for Naive Bayes\n",
      "[[ 24  34]\n",
      " [  3 124]]\n",
      "\n",
      "Classification report for Naive Bayes\n",
      "              precision    recall  f1-score   support\n",
      "\n",
      "           0       0.89      0.41      0.56        58\n",
      "           1       0.78      0.98      0.87       127\n",
      "\n",
      "   micro avg       0.80      0.80      0.80       185\n",
      "   macro avg       0.84      0.70      0.72       185\n",
      "weighted avg       0.82      0.80      0.77       185\n",
      "\n"
     ]
    },
    {
     "data": {
      "image/png": "[encoded data removed]",
      "text/plain": [
       "<Figure size 432x288 with 2 Axes>"
      ]
     },
     "metadata": {
      "needs_background": "light"
     },
     "output_type": "display_data"
    }
   ],
   "source": [
    "#NB\n",
    "#cm_vis = confusion_matrix(predicted,target_test,[1,0])\n",
    "cm_vis1 = confusion_matrix(pred_NB,target1test)\n",
    "sns.heatmap(cm_vis0, annot=True, fmt='.2f' )\n",
    "#sns.heatmap(cm_vis)\n",
    "plt.ylabel('True class')\n",
    "plt.xlabel('Predicted class')\n",
    "plt.title('NB')\n",
    "\n",
    "\n",
    "print(\"\\nConfusion matrix for Naive Bayes\") \n",
    "print(metrics.confusion_matrix(target1test, pred_NB))\n",
    "\n",
    "print(\"\\nClassification report for Naive Bayes\") \n",
    "print(metrics.classification_report(target1test, pred_NB))"
   ]
  },
  {
   "cell_type": "markdown",
   "metadata": {},
   "source": [
    "From the above results of the Naive Bayes algorithm which has a score of 75.21% we can see that the figure table of confusion matrix indicate that for the people who got the loan(1) gave a precision of 69% and recall of 100% and for the people who did not get the loan(0) gave  \n",
    "a precision and recall values as 0% and 0% respectively."
   ]
  },
  {
   "cell_type": "code",
   "execution_count": 62,
   "metadata": {},
   "outputs": [
    {
     "name": "stdout",
     "output_type": "stream",
     "text": [
      "\n",
      "Confusion matrix for Decision Tree\n",
      "[[ 25  33]\n",
      " [ 19 108]]\n",
      "\n",
      "Classification report for Decision Tree\n",
      "              precision    recall  f1-score   support\n",
      "\n",
      "           0       0.57      0.43      0.49        58\n",
      "           1       0.77      0.85      0.81       127\n",
      "\n",
      "   micro avg       0.72      0.72      0.72       185\n",
      "   macro avg       0.67      0.64      0.65       185\n",
      "weighted avg       0.70      0.72      0.71       185\n",
      "\n"
     ]
    },
    {
     "data": {
      "image/png": "[encoded data removed]",
      "text/plain": [
       "<Figure size 432x288 with 2 Axes>"
      ]
     },
     "metadata": {
      "needs_background": "light"
     },
     "output_type": "display_data"
    }
   ],
   "source": [
    "#DT\n",
    "#cm_vis = confusion_matrix(predicted,target_test,[1,0])\n",
    "cm_vis2 = confusion_matrix(pred_DT,target1test)\n",
    "sns.heatmap(cm_vis0, annot=True, fmt='.2f' )\n",
    "#sns.heatmap(cm_vis)\n",
    "plt.ylabel('True class')\n",
    "plt.xlabel('Predicted class')\n",
    "plt.title('DT')\n",
    "\n",
    "\n",
    "print(\"\\nConfusion matrix for Decision Tree\") \n",
    "print(metrics.confusion_matrix(target1test, pred_DT))\n",
    "\n",
    "print(\"\\nClassification report for Decision Tree\") \n",
    "print(metrics.classification_report(target1test, pred_DT))"
   ]
  },
  {
   "cell_type": "markdown",
   "metadata": {},
   "source": [
    "From the above results of the Decision Tree algorithm which has a score of 71.81%, we can see that the figure table of confusion matrix indicates that for the people who got the loan(1) gave a precision of 77% and recall of 85% and for the people who did not get the loan(0) gave a precision and recall values as 57% and 43% respectively."
   ]
  },
  {
   "cell_type": "markdown",
   "metadata": {},
   "source": []
  },
  {
   "cell_type": "markdown",
   "metadata": {},
   "source": []
  },
  {
   "cell_type": "markdown",
   "metadata": {},
   "source": []
  },
  {
   "cell_type": "markdown",
   "metadata": {},
   "source": [
    "# 5 - Summary"
   ]
  },
  {
   "cell_type": "markdown",
   "metadata": {},
   "source": [
    "In our modeling using the Classification tecnique we can come to a conclussion for predicting weather a person recives a loan or not we can say that the applicants who got loan or not according to the features selected by Hyper parameter tuning we can say that the Gaussian Naive Bayes gave the highest score followed by Decission Tree and next by K-Nearest Neigbours. These results were compared by the comfussion matrix which gave the precission and recall of the model fitted. For all this we have used the Grid Search CV which includes all the parameters and gives the best fitted parameter to predict the result.\n",
    "\n",
    "The only limitation which we can see is that our data set has 614 observations which is less than compared to the real world data, yet we can assume this as a sample of the huge data and can impliment it."
   ]
  },
  {
   "cell_type": "markdown",
   "metadata": {},
   "source": []
  },
  {
   "cell_type": "markdown",
   "metadata": {},
   "source": []
  },
  {
   "cell_type": "markdown",
   "metadata": {},
   "source": [
    "## Thank you\n",
    "### Tarun.S.Sarode"
   ]
  }
 ],
 "metadata": {
  "kernelspec": {
   "display_name": "Python 3",
   "language": "python",
   "name": "python3"
  },
  "language_info": {
   "codemirror_mode": {
    "name": "ipython",
    "version": 3
   },
   "file_extension": ".py",
   "mimetype": "text/x-python",
   "name": "python",
   "nbconvert_exporter": "python",
   "pygments_lexer": "ipython3",
   "version": "3.6.12"
  }
 },
 "nbformat": 4,
 "nbformat_minor": 2
}
